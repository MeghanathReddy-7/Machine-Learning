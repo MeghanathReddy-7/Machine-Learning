{
  "cells": [
    {
      "cell_type": "markdown",
      "metadata": {
        "id": "Aar43OYFk2zy"
      },
      "source": [
        "<b>Aim</b>:To perform data preprocessing, split the data into training and testing sets, visualize data using scatter plot , train and test the model by applying Simple Linear Regression,Gradient Descent,Lasso,Ridge,ElasticNet,Polynomial Regression and finally evaluate the model using various metrics.\n"
      ]
    },
    {
      "cell_type": "markdown",
      "metadata": {
        "id": "BDXtpiKVmKR8"
      },
      "source": [
        "**Description:**<br>\n",
        "**Simple Linear Regression**:\n",
        "\n",
        "Description: Simple linear regression is a statistical method used to model the relationship between a single independent variable (predictor) and a dependent variable (outcome). It assumes a linear relationship between the variables and seeks to find the best-fitting line that minimizes the sum of squared differences between the observed and predicted values.<br>\n",
        "Formula: y = β0 +β1x<br>\n",
        "is the formula used for simple linear regression. y is the predicted value of the dependent variable (y) for any given value of the independent variable (x). B0 is the intercept, the predicted value of y when the x is 0. B1 is the regression coefficient – how much we expect y to change as x increases.\n",
        "The equation of a simple linear regression model is represented as:\n",
        "\n",
        "**Gradient Descent:**\n",
        "Description: Gradient descent is an optimization algorithm used to minimize the loss function in machine learning models. It iteratively adjusts the model parameters (coefficients) in the direction of the steepest descent of the loss function gradient until convergence is achieved.<br>\n",
        "\n",
        "Formula to update params: w = w - alpha(derivate(cost))\n",
        "\n",
        "**Lasso Regression (L1 Regularization)**:\n",
        "\n",
        "Description: Lasso regression is a linear regression technique that incorporates L1 regularization to penalize large coefficients and encourage sparsity in the model. It adds the absolute value of the coefficients to the loss function, which helps in feature selection by shrinking some coefficients to zero.<br>\n",
        "formula:Minimization objective = LS Obj + α \\* (sum of the absolute value of coefficients)<br>\n",
        "**Ridge Regression (L2 Regularization)**:\n",
        "\n",
        "Description: Ridge regression is a linear regression technique that incorporates L2 regularization to penalize large coefficients and reduce overfitting. It adds the squared magnitude of the coefficients to the loss function, which shrinks the coefficients towards zero without eliminating them entirely.<br>\n",
        "The Ridge regression objective function is given by:\n",
        "Minimization objective = LS Obj + α \\* (sum of square of coefficients)<br>\n",
        "**ElasticNet Regression**:\n",
        "\n",
        "Description: ElasticNet regression is a linear regression technique that combines both L1 and L2 regularization to address the limitations of Lasso and Ridge regression. It balances between sparsity and smoothness, making it suitable for datasets with high-dimensional features and multicollinearity.<br>\n",
        "Formula:\n",
        "The ElasticNet regression objective function is combination of ridge and lasso.\n",
        "Minimization objective = LS Obj + α _ (sum of square of coefficients)+α _ (sum of the absolute value of coefficients)<Br>\n",
        "**Polynomial Regression:**\n",
        "\n",
        "Description: Polynomial regression is a form of linear regression that models the relationship between the independent variable and the dependent variable as an nth-degree polynomial. It allows for more complex, nonlinear relationships to be captured in the data.<br>\n",
        "Formula:\n",
        "The equation of a polynomial regression model is represented as:y=f(x)=β0+β1x+β2x2+β3x3+…\n",
        "\n",
        "**Evaluation Metrics:**<br>\n",
        "**Mean Squared Error:**Mean Squared Error measures the average squared difference between the actual values and the predicted values by the regression model. It penalizes larger errors more heavily than smaller ones.<br>\n",
        "MSE = 1/nΣ(yi − pi)^2, where yi is the ith observed value, pi is the corresponding predicted value for yi, and n is the number of observations. The Σ indicates that a summation is performed over all values of i.\n",
        "\n",
        "**R-squared (R2) Score:**\n",
        "R-squared, or the coefficient of determination, measures the proportion of the variance in the dependent variable (target) that is explained by the independent variables (features) in the model. It ranges from 0 to 1, where 1 indicates a perfect fit.\n",
        "R^2 = 1 - SSres/SStot\n",
        "where\n",
        "SSres is the sum of squared residuals (errors) of the model.\n",
        "SStot is the total sum of squares, which measures the total variance in the dependent variable.<br>\n",
        "\n",
        "<hr><br>\n",
        "<b>Cross-Validation:</b>\n",
        "Cross-validation is a resampling technique used to evaluate machine learning models on a limited dataset. It helps to assess how well a model generalizes to new data by partitioning the dataset into multiple subsets, called folds. The model is trained on a subset of the data (training set) and evaluated on the remaining data (validation set). This process is repeated multiple times, with different subsets used for training and validation each time. The most common type of cross-validation is k-fold cross-validation, where the dataset is divided into k equal-sized folds.<br>\n",
        "<b>GridSearchCV</b>\n",
        "GridSearchCV is a technique used for hyperparameter tuning in machine learning models. It is an exhaustive search algorithm that systematically evaluates a specified set of hyperparameters for a given model to determine the combination that yields the best performance. GridSearchCV works by creating a grid of all possible hyperparameter values and evaluating the model's performance using cross-validation on each combination of hyperparameters. It then selects the combination of hyperparameters that produces the best performance based on a specified evaluation metric (e.g., accuracy, F1 score).\n"
      ]
    },
    {
      "cell_type": "code",
      "execution_count": null,
      "metadata": {
        "id": "cHsUBMEQpd9P"
      },
      "outputs": [],
      "source": [
        "import pandas as pd\n",
        "import seaborn as sns\n",
        "\n",
        "df = pd.read_csv('computer_hardware_dataset.csv')"
      ]
    },
    {
      "cell_type": "markdown",
      "metadata": {
        "id": "wvqDvA36p9pM"
      },
      "source": [
        "**Understanding the data:**\n",
        "\n",
        "<hr>\n"
      ]
    },
    {
      "cell_type": "code",
      "execution_count": null,
      "metadata": {
        "colab": {
          "base_uri": "https://localhost:8080/"
        },
        "id": "Qdv5zrtUp0wm",
        "outputId": "738f987d-1cc6-4dd5-fc2d-d23d7b5de5b4"
      },
      "outputs": [
        {
          "data": {
            "text/plain": [
              "(209, 10)"
            ]
          },
          "execution_count": 2,
          "metadata": {},
          "output_type": "execute_result"
        }
      ],
      "source": [
        "#how big is the data?\n",
        "df.shape"
      ]
    },
    {
      "cell_type": "code",
      "execution_count": null,
      "metadata": {
        "colab": {
          "base_uri": "https://localhost:8080/",
          "height": 206
        },
        "id": "pO-eZmpxrfGd",
        "outputId": "523d9f51-7c35-48e3-c4bd-972f2c26ff11"
      },
      "outputs": [
        {
          "data": {
            "application/vnd.google.colaboratory.intrinsic+json": {
              "summary": "{\n  \"name\": \"df\",\n  \"rows\": 5,\n  \"fields\": [\n    {\n      \"column\": \"vendor_name\",\n      \"properties\": {\n        \"dtype\": \"string\",\n        \"num_unique_values\": 5,\n        \"samples\": [\n          \"burroughs\",\n          \"cdc\",\n          \"nixdorf\"\n        ],\n        \"semantic_type\": \"\",\n        \"description\": \"\"\n      }\n    },\n    {\n      \"column\": \"model_name\",\n      \"properties\": {\n        \"dtype\": \"string\",\n        \"num_unique_values\": 5,\n        \"samples\": [\n          \"b5920\",\n          \"omega:480-ii\",\n          \"8890/70\"\n        ],\n        \"semantic_type\": \"\",\n        \"description\": \"\"\n      }\n    },\n    {\n      \"column\": \"MYCT\",\n      \"properties\": {\n        \"dtype\": \"number\",\n        \"std\": 340,\n        \"min\": 50,\n        \"max\": 900,\n        \"num_unique_values\": 5,\n        \"samples\": [\n          143,\n          50,\n          200\n        ],\n        \"semantic_type\": \"\",\n        \"description\": \"\"\n      }\n    },\n    {\n      \"column\": \"MMIN\",\n      \"properties\": {\n        \"dtype\": \"number\",\n        \"std\": 933,\n        \"min\": 1000,\n        \"max\": 3100,\n        \"num_unique_values\": 3,\n        \"samples\": [\n          1000,\n          3100,\n          2000\n        ],\n        \"semantic_type\": \"\",\n        \"description\": \"\"\n      }\n    },\n    {\n      \"column\": \"MMAX\",\n      \"properties\": {\n        \"dtype\": \"number\",\n        \"std\": 2977,\n        \"min\": 1000,\n        \"max\": 8000,\n        \"num_unique_values\": 4,\n        \"samples\": [\n          6200,\n          4000,\n          8000\n        ],\n        \"semantic_type\": \"\",\n        \"description\": \"\"\n      }\n    },\n    {\n      \"column\": \"CACH\",\n      \"properties\": {\n        \"dtype\": \"number\",\n        \"std\": 26,\n        \"min\": 0,\n        \"max\": 64,\n        \"num_unique_values\": 4,\n        \"samples\": [\n          0,\n          8,\n          16\n        ],\n        \"semantic_type\": \"\",\n        \"description\": \"\"\n      }\n    },\n    {\n      \"column\": \"CHMIN\",\n      \"properties\": {\n        \"dtype\": \"number\",\n        \"std\": 1,\n        \"min\": 1,\n        \"max\": 5,\n        \"num_unique_values\": 2,\n        \"samples\": [\n          5,\n          1\n        ],\n        \"semantic_type\": \"\",\n        \"description\": \"\"\n      }\n    },\n    {\n      \"column\": \"CHMAX\",\n      \"properties\": {\n        \"dtype\": \"number\",\n        \"std\": 7,\n        \"min\": 2,\n        \"max\": 20,\n        \"num_unique_values\": 3,\n        \"samples\": [\n          2,\n          20\n        ],\n        \"semantic_type\": \"\",\n        \"description\": \"\"\n      }\n    },\n    {\n      \"column\": \"PRP\",\n      \"properties\": {\n        \"dtype\": \"number\",\n        \"std\": 21,\n        \"min\": 11,\n        \"max\": 71,\n        \"num_unique_values\": 5,\n        \"samples\": [\n          33,\n          29\n        ],\n        \"semantic_type\": \"\",\n        \"description\": \"\"\n      }\n    },\n    {\n      \"column\": \"ERP\",\n      \"properties\": {\n        \"dtype\": \"number\",\n        \"std\": 18,\n        \"min\": 18,\n        \"max\": 67,\n        \"num_unique_values\": 5,\n        \"samples\": [\n          39,\n          29\n        ],\n        \"semantic_type\": \"\",\n        \"description\": \"\"\n      }\n    }\n  ]\n}",
              "type": "dataframe"
            },
            "text/html": [
              "\n",
              "  <div id=\"df-76add75b-c869-4c5a-b01f-6da8ca146b15\" class=\"colab-df-container\">\n",
              "    <div>\n",
              "<style scoped>\n",
              "    .dataframe tbody tr th:only-of-type {\n",
              "        vertical-align: middle;\n",
              "    }\n",
              "\n",
              "    .dataframe tbody tr th {\n",
              "        vertical-align: top;\n",
              "    }\n",
              "\n",
              "    .dataframe thead th {\n",
              "        text-align: right;\n",
              "    }\n",
              "</style>\n",
              "<table border=\"1\" class=\"dataframe\">\n",
              "  <thead>\n",
              "    <tr style=\"text-align: right;\">\n",
              "      <th></th>\n",
              "      <th>vendor_name</th>\n",
              "      <th>model_name</th>\n",
              "      <th>MYCT</th>\n",
              "      <th>MMIN</th>\n",
              "      <th>MMAX</th>\n",
              "      <th>CACH</th>\n",
              "      <th>CHMIN</th>\n",
              "      <th>CHMAX</th>\n",
              "      <th>PRP</th>\n",
              "      <th>ERP</th>\n",
              "    </tr>\n",
              "  </thead>\n",
              "  <tbody>\n",
              "    <tr>\n",
              "      <th>56</th>\n",
              "      <td>dg</td>\n",
              "      <td>eclipse:mv/8000-ii</td>\n",
              "      <td>220</td>\n",
              "      <td>1000</td>\n",
              "      <td>8000</td>\n",
              "      <td>16</td>\n",
              "      <td>1</td>\n",
              "      <td>2</td>\n",
              "      <td>71</td>\n",
              "      <td>42</td>\n",
              "    </tr>\n",
              "    <tr>\n",
              "      <th>21</th>\n",
              "      <td>burroughs</td>\n",
              "      <td>b5920</td>\n",
              "      <td>143</td>\n",
              "      <td>3100</td>\n",
              "      <td>6200</td>\n",
              "      <td>0</td>\n",
              "      <td>5</td>\n",
              "      <td>20</td>\n",
              "      <td>33</td>\n",
              "      <td>39</td>\n",
              "    </tr>\n",
              "    <tr>\n",
              "      <th>172</th>\n",
              "      <td>nixdorf</td>\n",
              "      <td>8890/70</td>\n",
              "      <td>200</td>\n",
              "      <td>2000</td>\n",
              "      <td>8000</td>\n",
              "      <td>64</td>\n",
              "      <td>1</td>\n",
              "      <td>5</td>\n",
              "      <td>41</td>\n",
              "      <td>67</td>\n",
              "    </tr>\n",
              "    <tr>\n",
              "      <th>107</th>\n",
              "      <td>ibm</td>\n",
              "      <td>4321</td>\n",
              "      <td>900</td>\n",
              "      <td>1000</td>\n",
              "      <td>1000</td>\n",
              "      <td>0</td>\n",
              "      <td>1</td>\n",
              "      <td>2</td>\n",
              "      <td>11</td>\n",
              "      <td>18</td>\n",
              "    </tr>\n",
              "    <tr>\n",
              "      <th>37</th>\n",
              "      <td>cdc</td>\n",
              "      <td>omega:480-ii</td>\n",
              "      <td>50</td>\n",
              "      <td>1000</td>\n",
              "      <td>4000</td>\n",
              "      <td>8</td>\n",
              "      <td>1</td>\n",
              "      <td>5</td>\n",
              "      <td>29</td>\n",
              "      <td>29</td>\n",
              "    </tr>\n",
              "  </tbody>\n",
              "</table>\n",
              "</div>\n",
              "    <div class=\"colab-df-buttons\">\n",
              "\n",
              "  <div class=\"colab-df-container\">\n",
              "    <button class=\"colab-df-convert\" onclick=\"convertToInteractive('df-76add75b-c869-4c5a-b01f-6da8ca146b15')\"\n",
              "            title=\"Convert this dataframe to an interactive table.\"\n",
              "            style=\"display:none;\">\n",
              "\n",
              "  <svg xmlns=\"http://www.w3.org/2000/svg\" height=\"24px\" viewBox=\"0 -960 960 960\">\n",
              "    <path d=\"M120-120v-720h720v720H120Zm60-500h600v-160H180v160Zm220 220h160v-160H400v160Zm0 220h160v-160H400v160ZM180-400h160v-160H180v160Zm440 0h160v-160H620v160ZM180-180h160v-160H180v160Zm440 0h160v-160H620v160Z\"/>\n",
              "  </svg>\n",
              "    </button>\n",
              "\n",
              "  <style>\n",
              "    .colab-df-container {\n",
              "      display:flex;\n",
              "      gap: 12px;\n",
              "    }\n",
              "\n",
              "    .colab-df-convert {\n",
              "      background-color: #E8F0FE;\n",
              "      border: none;\n",
              "      border-radius: 50%;\n",
              "      cursor: pointer;\n",
              "      display: none;\n",
              "      fill: #1967D2;\n",
              "      height: 32px;\n",
              "      padding: 0 0 0 0;\n",
              "      width: 32px;\n",
              "    }\n",
              "\n",
              "    .colab-df-convert:hover {\n",
              "      background-color: #E2EBFA;\n",
              "      box-shadow: 0px 1px 2px rgba(60, 64, 67, 0.3), 0px 1px 3px 1px rgba(60, 64, 67, 0.15);\n",
              "      fill: #174EA6;\n",
              "    }\n",
              "\n",
              "    .colab-df-buttons div {\n",
              "      margin-bottom: 4px;\n",
              "    }\n",
              "\n",
              "    [theme=dark] .colab-df-convert {\n",
              "      background-color: #3B4455;\n",
              "      fill: #D2E3FC;\n",
              "    }\n",
              "\n",
              "    [theme=dark] .colab-df-convert:hover {\n",
              "      background-color: #434B5C;\n",
              "      box-shadow: 0px 1px 3px 1px rgba(0, 0, 0, 0.15);\n",
              "      filter: drop-shadow(0px 1px 2px rgba(0, 0, 0, 0.3));\n",
              "      fill: #FFFFFF;\n",
              "    }\n",
              "  </style>\n",
              "\n",
              "    <script>\n",
              "      const buttonEl =\n",
              "        document.querySelector('#df-76add75b-c869-4c5a-b01f-6da8ca146b15 button.colab-df-convert');\n",
              "      buttonEl.style.display =\n",
              "        google.colab.kernel.accessAllowed ? 'block' : 'none';\n",
              "\n",
              "      async function convertToInteractive(key) {\n",
              "        const element = document.querySelector('#df-76add75b-c869-4c5a-b01f-6da8ca146b15');\n",
              "        const dataTable =\n",
              "          await google.colab.kernel.invokeFunction('convertToInteractive',\n",
              "                                                    [key], {});\n",
              "        if (!dataTable) return;\n",
              "\n",
              "        const docLinkHtml = 'Like what you see? Visit the ' +\n",
              "          '<a target=\"_blank\" href=https://colab.research.google.com/notebooks/data_table.ipynb>data table notebook</a>'\n",
              "          + ' to learn more about interactive tables.';\n",
              "        element.innerHTML = '';\n",
              "        dataTable['output_type'] = 'display_data';\n",
              "        await google.colab.output.renderOutput(dataTable, element);\n",
              "        const docLink = document.createElement('div');\n",
              "        docLink.innerHTML = docLinkHtml;\n",
              "        element.appendChild(docLink);\n",
              "      }\n",
              "    </script>\n",
              "  </div>\n",
              "\n",
              "\n",
              "<div id=\"df-07d9867e-a90e-4ee0-9511-dfc908672997\">\n",
              "  <button class=\"colab-df-quickchart\" onclick=\"quickchart('df-07d9867e-a90e-4ee0-9511-dfc908672997')\"\n",
              "            title=\"Suggest charts\"\n",
              "            style=\"display:none;\">\n",
              "\n",
              "<svg xmlns=\"http://www.w3.org/2000/svg\" height=\"24px\"viewBox=\"0 0 24 24\"\n",
              "     width=\"24px\">\n",
              "    <g>\n",
              "        <path d=\"M19 3H5c-1.1 0-2 .9-2 2v14c0 1.1.9 2 2 2h14c1.1 0 2-.9 2-2V5c0-1.1-.9-2-2-2zM9 17H7v-7h2v7zm4 0h-2V7h2v10zm4 0h-2v-4h2v4z\"/>\n",
              "    </g>\n",
              "</svg>\n",
              "  </button>\n",
              "\n",
              "<style>\n",
              "  .colab-df-quickchart {\n",
              "      --bg-color: #E8F0FE;\n",
              "      --fill-color: #1967D2;\n",
              "      --hover-bg-color: #E2EBFA;\n",
              "      --hover-fill-color: #174EA6;\n",
              "      --disabled-fill-color: #AAA;\n",
              "      --disabled-bg-color: #DDD;\n",
              "  }\n",
              "\n",
              "  [theme=dark] .colab-df-quickchart {\n",
              "      --bg-color: #3B4455;\n",
              "      --fill-color: #D2E3FC;\n",
              "      --hover-bg-color: #434B5C;\n",
              "      --hover-fill-color: #FFFFFF;\n",
              "      --disabled-bg-color: #3B4455;\n",
              "      --disabled-fill-color: #666;\n",
              "  }\n",
              "\n",
              "  .colab-df-quickchart {\n",
              "    background-color: var(--bg-color);\n",
              "    border: none;\n",
              "    border-radius: 50%;\n",
              "    cursor: pointer;\n",
              "    display: none;\n",
              "    fill: var(--fill-color);\n",
              "    height: 32px;\n",
              "    padding: 0;\n",
              "    width: 32px;\n",
              "  }\n",
              "\n",
              "  .colab-df-quickchart:hover {\n",
              "    background-color: var(--hover-bg-color);\n",
              "    box-shadow: 0 1px 2px rgba(60, 64, 67, 0.3), 0 1px 3px 1px rgba(60, 64, 67, 0.15);\n",
              "    fill: var(--button-hover-fill-color);\n",
              "  }\n",
              "\n",
              "  .colab-df-quickchart-complete:disabled,\n",
              "  .colab-df-quickchart-complete:disabled:hover {\n",
              "    background-color: var(--disabled-bg-color);\n",
              "    fill: var(--disabled-fill-color);\n",
              "    box-shadow: none;\n",
              "  }\n",
              "\n",
              "  .colab-df-spinner {\n",
              "    border: 2px solid var(--fill-color);\n",
              "    border-color: transparent;\n",
              "    border-bottom-color: var(--fill-color);\n",
              "    animation:\n",
              "      spin 1s steps(1) infinite;\n",
              "  }\n",
              "\n",
              "  @keyframes spin {\n",
              "    0% {\n",
              "      border-color: transparent;\n",
              "      border-bottom-color: var(--fill-color);\n",
              "      border-left-color: var(--fill-color);\n",
              "    }\n",
              "    20% {\n",
              "      border-color: transparent;\n",
              "      border-left-color: var(--fill-color);\n",
              "      border-top-color: var(--fill-color);\n",
              "    }\n",
              "    30% {\n",
              "      border-color: transparent;\n",
              "      border-left-color: var(--fill-color);\n",
              "      border-top-color: var(--fill-color);\n",
              "      border-right-color: var(--fill-color);\n",
              "    }\n",
              "    40% {\n",
              "      border-color: transparent;\n",
              "      border-right-color: var(--fill-color);\n",
              "      border-top-color: var(--fill-color);\n",
              "    }\n",
              "    60% {\n",
              "      border-color: transparent;\n",
              "      border-right-color: var(--fill-color);\n",
              "    }\n",
              "    80% {\n",
              "      border-color: transparent;\n",
              "      border-right-color: var(--fill-color);\n",
              "      border-bottom-color: var(--fill-color);\n",
              "    }\n",
              "    90% {\n",
              "      border-color: transparent;\n",
              "      border-bottom-color: var(--fill-color);\n",
              "    }\n",
              "  }\n",
              "</style>\n",
              "\n",
              "  <script>\n",
              "    async function quickchart(key) {\n",
              "      const quickchartButtonEl =\n",
              "        document.querySelector('#' + key + ' button');\n",
              "      quickchartButtonEl.disabled = true;  // To prevent multiple clicks.\n",
              "      quickchartButtonEl.classList.add('colab-df-spinner');\n",
              "      try {\n",
              "        const charts = await google.colab.kernel.invokeFunction(\n",
              "            'suggestCharts', [key], {});\n",
              "      } catch (error) {\n",
              "        console.error('Error during call to suggestCharts:', error);\n",
              "      }\n",
              "      quickchartButtonEl.classList.remove('colab-df-spinner');\n",
              "      quickchartButtonEl.classList.add('colab-df-quickchart-complete');\n",
              "    }\n",
              "    (() => {\n",
              "      let quickchartButtonEl =\n",
              "        document.querySelector('#df-07d9867e-a90e-4ee0-9511-dfc908672997 button');\n",
              "      quickchartButtonEl.style.display =\n",
              "        google.colab.kernel.accessAllowed ? 'block' : 'none';\n",
              "    })();\n",
              "  </script>\n",
              "</div>\n",
              "\n",
              "    </div>\n",
              "  </div>\n"
            ],
            "text/plain": [
              "    vendor_name          model_name  MYCT  MMIN  MMAX  CACH  CHMIN  CHMAX  \\\n",
              "56           dg  eclipse:mv/8000-ii   220  1000  8000    16      1      2   \n",
              "21    burroughs               b5920   143  3100  6200     0      5     20   \n",
              "172     nixdorf             8890/70   200  2000  8000    64      1      5   \n",
              "107         ibm                4321   900  1000  1000     0      1      2   \n",
              "37          cdc        omega:480-ii    50  1000  4000     8      1      5   \n",
              "\n",
              "     PRP  ERP  \n",
              "56    71   42  \n",
              "21    33   39  \n",
              "172   41   67  \n",
              "107   11   18  \n",
              "37    29   29  "
            ]
          },
          "execution_count": 3,
          "metadata": {},
          "output_type": "execute_result"
        }
      ],
      "source": [
        "#how does the data look like?\n",
        "# df.head()\n",
        "df.sample(5) # used to print any random columns"
      ]
    },
    {
      "cell_type": "code",
      "execution_count": null,
      "metadata": {
        "colab": {
          "base_uri": "https://localhost:8080/"
        },
        "id": "NCAKsQdMrqYU",
        "outputId": "1f946094-bb37-4786-bb25-a5bd54ad519e"
      },
      "outputs": [
        {
          "name": "stdout",
          "output_type": "stream",
          "text": [
            "<class 'pandas.core.frame.DataFrame'>\n",
            "RangeIndex: 209 entries, 0 to 208\n",
            "Data columns (total 10 columns):\n",
            " #   Column       Non-Null Count  Dtype \n",
            "---  ------       --------------  ----- \n",
            " 0   vendor_name  209 non-null    object\n",
            " 1   model_name   209 non-null    object\n",
            " 2   MYCT         209 non-null    int64 \n",
            " 3   MMIN         209 non-null    int64 \n",
            " 4   MMAX         209 non-null    int64 \n",
            " 5   CACH         209 non-null    int64 \n",
            " 6   CHMIN        209 non-null    int64 \n",
            " 7   CHMAX        209 non-null    int64 \n",
            " 8   PRP          209 non-null    int64 \n",
            " 9   ERP          209 non-null    int64 \n",
            "dtypes: int64(8), object(2)\n",
            "memory usage: 16.5+ KB\n"
          ]
        }
      ],
      "source": [
        "#what is the datatype of cols?\n",
        "df.info()"
      ]
    },
    {
      "cell_type": "code",
      "execution_count": null,
      "metadata": {
        "colab": {
          "base_uri": "https://localhost:8080/"
        },
        "id": "3LQXjIatrwF4",
        "outputId": "47396edb-b31b-403f-cf5e-401e86a43885"
      },
      "outputs": [
        {
          "data": {
            "text/plain": [
              "vendor_name    0\n",
              "model_name     0\n",
              "MYCT           0\n",
              "MMIN           0\n",
              "MMAX           0\n",
              "CACH           0\n",
              "CHMIN          0\n",
              "CHMAX          0\n",
              "PRP            0\n",
              "ERP            0\n",
              "dtype: int64"
            ]
          },
          "execution_count": 5,
          "metadata": {},
          "output_type": "execute_result"
        }
      ],
      "source": [
        "#are there any missing values?\n",
        "df.isnull().sum()"
      ]
    },
    {
      "cell_type": "code",
      "execution_count": null,
      "metadata": {
        "colab": {
          "base_uri": "https://localhost:8080/",
          "height": 320
        },
        "id": "KJjx_FIOr1tl",
        "outputId": "772c3b3e-ab7f-409f-be48-74e6e608efb8"
      },
      "outputs": [
        {
          "data": {
            "application/vnd.google.colaboratory.intrinsic+json": {
              "summary": "{\n  \"name\": \"df\",\n  \"rows\": 8,\n  \"fields\": [\n    {\n      \"column\": \"MYCT\",\n      \"properties\": {\n        \"dtype\": \"number\",\n        \"std\": 483.9705087101889,\n        \"min\": 17.0,\n        \"max\": 1500.0,\n        \"num_unique_values\": 8,\n        \"samples\": [\n          203.82296650717703,\n          110.0,\n          209.0\n        ],\n        \"semantic_type\": \"\",\n        \"description\": \"\"\n      }\n    },\n    {\n      \"column\": \"MMIN\",\n      \"properties\": {\n        \"dtype\": \"number\",\n        \"std\": 10729.41954443447,\n        \"min\": 64.0,\n        \"max\": 32000.0,\n        \"num_unique_values\": 8,\n        \"samples\": [\n          2867.9808612440193,\n          2000.0,\n          209.0\n        ],\n        \"semantic_type\": \"\",\n        \"description\": \"\"\n      }\n    },\n    {\n      \"column\": \"MMAX\",\n      \"properties\": {\n        \"dtype\": \"number\",\n        \"std\": 20814.240639318406,\n        \"min\": 64.0,\n        \"max\": 64000.0,\n        \"num_unique_values\": 8,\n        \"samples\": [\n          11796.153110047846,\n          8000.0,\n          209.0\n        ],\n        \"semantic_type\": \"\",\n        \"description\": \"\"\n      }\n    },\n    {\n      \"column\": \"CACH\",\n      \"properties\": {\n        \"dtype\": \"number\",\n        \"std\": 101.31952594216281,\n        \"min\": 0.0,\n        \"max\": 256.0,\n        \"num_unique_values\": 7,\n        \"samples\": [\n          209.0,\n          25.205741626794257,\n          32.0\n        ],\n        \"semantic_type\": \"\",\n        \"description\": \"\"\n      }\n    },\n    {\n      \"column\": \"CHMIN\",\n      \"properties\": {\n        \"dtype\": \"number\",\n        \"std\": 72.29721648974444,\n        \"min\": 0.0,\n        \"max\": 209.0,\n        \"num_unique_values\": 8,\n        \"samples\": [\n          4.698564593301436,\n          2.0,\n          209.0\n        ],\n        \"semantic_type\": \"\",\n        \"description\": \"\"\n      }\n    },\n    {\n      \"column\": \"CHMAX\",\n      \"properties\": {\n        \"dtype\": \"number\",\n        \"std\": 83.79922144431414,\n        \"min\": 0.0,\n        \"max\": 209.0,\n        \"num_unique_values\": 8,\n        \"samples\": [\n          18.267942583732058,\n          8.0,\n          209.0\n        ],\n        \"semantic_type\": \"\",\n        \"description\": \"\"\n      }\n    },\n    {\n      \"column\": \"PRP\",\n      \"properties\": {\n        \"dtype\": \"number\",\n        \"std\": 378.8188922529687,\n        \"min\": 6.0,\n        \"max\": 1150.0,\n        \"num_unique_values\": 8,\n        \"samples\": [\n          105.622009569378,\n          50.0,\n          209.0\n        ],\n        \"semantic_type\": \"\",\n        \"description\": \"\"\n      }\n    },\n    {\n      \"column\": \"ERP\",\n      \"properties\": {\n        \"dtype\": \"number\",\n        \"std\": 410.0213432663018,\n        \"min\": 15.0,\n        \"max\": 1238.0,\n        \"num_unique_values\": 8,\n        \"samples\": [\n          99.33014354066985,\n          45.0,\n          209.0\n        ],\n        \"semantic_type\": \"\",\n        \"description\": \"\"\n      }\n    }\n  ]\n}",
              "type": "dataframe"
            },
            "text/html": [
              "\n",
              "  <div id=\"df-420b6035-1a55-4515-8f26-923915290b10\" class=\"colab-df-container\">\n",
              "    <div>\n",
              "<style scoped>\n",
              "    .dataframe tbody tr th:only-of-type {\n",
              "        vertical-align: middle;\n",
              "    }\n",
              "\n",
              "    .dataframe tbody tr th {\n",
              "        vertical-align: top;\n",
              "    }\n",
              "\n",
              "    .dataframe thead th {\n",
              "        text-align: right;\n",
              "    }\n",
              "</style>\n",
              "<table border=\"1\" class=\"dataframe\">\n",
              "  <thead>\n",
              "    <tr style=\"text-align: right;\">\n",
              "      <th></th>\n",
              "      <th>MYCT</th>\n",
              "      <th>MMIN</th>\n",
              "      <th>MMAX</th>\n",
              "      <th>CACH</th>\n",
              "      <th>CHMIN</th>\n",
              "      <th>CHMAX</th>\n",
              "      <th>PRP</th>\n",
              "      <th>ERP</th>\n",
              "    </tr>\n",
              "  </thead>\n",
              "  <tbody>\n",
              "    <tr>\n",
              "      <th>count</th>\n",
              "      <td>209.000000</td>\n",
              "      <td>209.000000</td>\n",
              "      <td>209.000000</td>\n",
              "      <td>209.000000</td>\n",
              "      <td>209.000000</td>\n",
              "      <td>209.000000</td>\n",
              "      <td>209.000000</td>\n",
              "      <td>209.000000</td>\n",
              "    </tr>\n",
              "    <tr>\n",
              "      <th>mean</th>\n",
              "      <td>203.822967</td>\n",
              "      <td>2867.980861</td>\n",
              "      <td>11796.153110</td>\n",
              "      <td>25.205742</td>\n",
              "      <td>4.698565</td>\n",
              "      <td>18.267943</td>\n",
              "      <td>105.622010</td>\n",
              "      <td>99.330144</td>\n",
              "    </tr>\n",
              "    <tr>\n",
              "      <th>std</th>\n",
              "      <td>260.262926</td>\n",
              "      <td>3878.742758</td>\n",
              "      <td>11726.564377</td>\n",
              "      <td>40.628722</td>\n",
              "      <td>6.816274</td>\n",
              "      <td>25.997318</td>\n",
              "      <td>160.830733</td>\n",
              "      <td>154.757102</td>\n",
              "    </tr>\n",
              "    <tr>\n",
              "      <th>min</th>\n",
              "      <td>17.000000</td>\n",
              "      <td>64.000000</td>\n",
              "      <td>64.000000</td>\n",
              "      <td>0.000000</td>\n",
              "      <td>0.000000</td>\n",
              "      <td>0.000000</td>\n",
              "      <td>6.000000</td>\n",
              "      <td>15.000000</td>\n",
              "    </tr>\n",
              "    <tr>\n",
              "      <th>25%</th>\n",
              "      <td>50.000000</td>\n",
              "      <td>768.000000</td>\n",
              "      <td>4000.000000</td>\n",
              "      <td>0.000000</td>\n",
              "      <td>1.000000</td>\n",
              "      <td>5.000000</td>\n",
              "      <td>27.000000</td>\n",
              "      <td>28.000000</td>\n",
              "    </tr>\n",
              "    <tr>\n",
              "      <th>50%</th>\n",
              "      <td>110.000000</td>\n",
              "      <td>2000.000000</td>\n",
              "      <td>8000.000000</td>\n",
              "      <td>8.000000</td>\n",
              "      <td>2.000000</td>\n",
              "      <td>8.000000</td>\n",
              "      <td>50.000000</td>\n",
              "      <td>45.000000</td>\n",
              "    </tr>\n",
              "    <tr>\n",
              "      <th>75%</th>\n",
              "      <td>225.000000</td>\n",
              "      <td>4000.000000</td>\n",
              "      <td>16000.000000</td>\n",
              "      <td>32.000000</td>\n",
              "      <td>6.000000</td>\n",
              "      <td>24.000000</td>\n",
              "      <td>113.000000</td>\n",
              "      <td>101.000000</td>\n",
              "    </tr>\n",
              "    <tr>\n",
              "      <th>max</th>\n",
              "      <td>1500.000000</td>\n",
              "      <td>32000.000000</td>\n",
              "      <td>64000.000000</td>\n",
              "      <td>256.000000</td>\n",
              "      <td>52.000000</td>\n",
              "      <td>176.000000</td>\n",
              "      <td>1150.000000</td>\n",
              "      <td>1238.000000</td>\n",
              "    </tr>\n",
              "  </tbody>\n",
              "</table>\n",
              "</div>\n",
              "    <div class=\"colab-df-buttons\">\n",
              "\n",
              "  <div class=\"colab-df-container\">\n",
              "    <button class=\"colab-df-convert\" onclick=\"convertToInteractive('df-420b6035-1a55-4515-8f26-923915290b10')\"\n",
              "            title=\"Convert this dataframe to an interactive table.\"\n",
              "            style=\"display:none;\">\n",
              "\n",
              "  <svg xmlns=\"http://www.w3.org/2000/svg\" height=\"24px\" viewBox=\"0 -960 960 960\">\n",
              "    <path d=\"M120-120v-720h720v720H120Zm60-500h600v-160H180v160Zm220 220h160v-160H400v160Zm0 220h160v-160H400v160ZM180-400h160v-160H180v160Zm440 0h160v-160H620v160ZM180-180h160v-160H180v160Zm440 0h160v-160H620v160Z\"/>\n",
              "  </svg>\n",
              "    </button>\n",
              "\n",
              "  <style>\n",
              "    .colab-df-container {\n",
              "      display:flex;\n",
              "      gap: 12px;\n",
              "    }\n",
              "\n",
              "    .colab-df-convert {\n",
              "      background-color: #E8F0FE;\n",
              "      border: none;\n",
              "      border-radius: 50%;\n",
              "      cursor: pointer;\n",
              "      display: none;\n",
              "      fill: #1967D2;\n",
              "      height: 32px;\n",
              "      padding: 0 0 0 0;\n",
              "      width: 32px;\n",
              "    }\n",
              "\n",
              "    .colab-df-convert:hover {\n",
              "      background-color: #E2EBFA;\n",
              "      box-shadow: 0px 1px 2px rgba(60, 64, 67, 0.3), 0px 1px 3px 1px rgba(60, 64, 67, 0.15);\n",
              "      fill: #174EA6;\n",
              "    }\n",
              "\n",
              "    .colab-df-buttons div {\n",
              "      margin-bottom: 4px;\n",
              "    }\n",
              "\n",
              "    [theme=dark] .colab-df-convert {\n",
              "      background-color: #3B4455;\n",
              "      fill: #D2E3FC;\n",
              "    }\n",
              "\n",
              "    [theme=dark] .colab-df-convert:hover {\n",
              "      background-color: #434B5C;\n",
              "      box-shadow: 0px 1px 3px 1px rgba(0, 0, 0, 0.15);\n",
              "      filter: drop-shadow(0px 1px 2px rgba(0, 0, 0, 0.3));\n",
              "      fill: #FFFFFF;\n",
              "    }\n",
              "  </style>\n",
              "\n",
              "    <script>\n",
              "      const buttonEl =\n",
              "        document.querySelector('#df-420b6035-1a55-4515-8f26-923915290b10 button.colab-df-convert');\n",
              "      buttonEl.style.display =\n",
              "        google.colab.kernel.accessAllowed ? 'block' : 'none';\n",
              "\n",
              "      async function convertToInteractive(key) {\n",
              "        const element = document.querySelector('#df-420b6035-1a55-4515-8f26-923915290b10');\n",
              "        const dataTable =\n",
              "          await google.colab.kernel.invokeFunction('convertToInteractive',\n",
              "                                                    [key], {});\n",
              "        if (!dataTable) return;\n",
              "\n",
              "        const docLinkHtml = 'Like what you see? Visit the ' +\n",
              "          '<a target=\"_blank\" href=https://colab.research.google.com/notebooks/data_table.ipynb>data table notebook</a>'\n",
              "          + ' to learn more about interactive tables.';\n",
              "        element.innerHTML = '';\n",
              "        dataTable['output_type'] = 'display_data';\n",
              "        await google.colab.output.renderOutput(dataTable, element);\n",
              "        const docLink = document.createElement('div');\n",
              "        docLink.innerHTML = docLinkHtml;\n",
              "        element.appendChild(docLink);\n",
              "      }\n",
              "    </script>\n",
              "  </div>\n",
              "\n",
              "\n",
              "<div id=\"df-57703bcc-3137-4543-bbff-055b8f76e48b\">\n",
              "  <button class=\"colab-df-quickchart\" onclick=\"quickchart('df-57703bcc-3137-4543-bbff-055b8f76e48b')\"\n",
              "            title=\"Suggest charts\"\n",
              "            style=\"display:none;\">\n",
              "\n",
              "<svg xmlns=\"http://www.w3.org/2000/svg\" height=\"24px\"viewBox=\"0 0 24 24\"\n",
              "     width=\"24px\">\n",
              "    <g>\n",
              "        <path d=\"M19 3H5c-1.1 0-2 .9-2 2v14c0 1.1.9 2 2 2h14c1.1 0 2-.9 2-2V5c0-1.1-.9-2-2-2zM9 17H7v-7h2v7zm4 0h-2V7h2v10zm4 0h-2v-4h2v4z\"/>\n",
              "    </g>\n",
              "</svg>\n",
              "  </button>\n",
              "\n",
              "<style>\n",
              "  .colab-df-quickchart {\n",
              "      --bg-color: #E8F0FE;\n",
              "      --fill-color: #1967D2;\n",
              "      --hover-bg-color: #E2EBFA;\n",
              "      --hover-fill-color: #174EA6;\n",
              "      --disabled-fill-color: #AAA;\n",
              "      --disabled-bg-color: #DDD;\n",
              "  }\n",
              "\n",
              "  [theme=dark] .colab-df-quickchart {\n",
              "      --bg-color: #3B4455;\n",
              "      --fill-color: #D2E3FC;\n",
              "      --hover-bg-color: #434B5C;\n",
              "      --hover-fill-color: #FFFFFF;\n",
              "      --disabled-bg-color: #3B4455;\n",
              "      --disabled-fill-color: #666;\n",
              "  }\n",
              "\n",
              "  .colab-df-quickchart {\n",
              "    background-color: var(--bg-color);\n",
              "    border: none;\n",
              "    border-radius: 50%;\n",
              "    cursor: pointer;\n",
              "    display: none;\n",
              "    fill: var(--fill-color);\n",
              "    height: 32px;\n",
              "    padding: 0;\n",
              "    width: 32px;\n",
              "  }\n",
              "\n",
              "  .colab-df-quickchart:hover {\n",
              "    background-color: var(--hover-bg-color);\n",
              "    box-shadow: 0 1px 2px rgba(60, 64, 67, 0.3), 0 1px 3px 1px rgba(60, 64, 67, 0.15);\n",
              "    fill: var(--button-hover-fill-color);\n",
              "  }\n",
              "\n",
              "  .colab-df-quickchart-complete:disabled,\n",
              "  .colab-df-quickchart-complete:disabled:hover {\n",
              "    background-color: var(--disabled-bg-color);\n",
              "    fill: var(--disabled-fill-color);\n",
              "    box-shadow: none;\n",
              "  }\n",
              "\n",
              "  .colab-df-spinner {\n",
              "    border: 2px solid var(--fill-color);\n",
              "    border-color: transparent;\n",
              "    border-bottom-color: var(--fill-color);\n",
              "    animation:\n",
              "      spin 1s steps(1) infinite;\n",
              "  }\n",
              "\n",
              "  @keyframes spin {\n",
              "    0% {\n",
              "      border-color: transparent;\n",
              "      border-bottom-color: var(--fill-color);\n",
              "      border-left-color: var(--fill-color);\n",
              "    }\n",
              "    20% {\n",
              "      border-color: transparent;\n",
              "      border-left-color: var(--fill-color);\n",
              "      border-top-color: var(--fill-color);\n",
              "    }\n",
              "    30% {\n",
              "      border-color: transparent;\n",
              "      border-left-color: var(--fill-color);\n",
              "      border-top-color: var(--fill-color);\n",
              "      border-right-color: var(--fill-color);\n",
              "    }\n",
              "    40% {\n",
              "      border-color: transparent;\n",
              "      border-right-color: var(--fill-color);\n",
              "      border-top-color: var(--fill-color);\n",
              "    }\n",
              "    60% {\n",
              "      border-color: transparent;\n",
              "      border-right-color: var(--fill-color);\n",
              "    }\n",
              "    80% {\n",
              "      border-color: transparent;\n",
              "      border-right-color: var(--fill-color);\n",
              "      border-bottom-color: var(--fill-color);\n",
              "    }\n",
              "    90% {\n",
              "      border-color: transparent;\n",
              "      border-bottom-color: var(--fill-color);\n",
              "    }\n",
              "  }\n",
              "</style>\n",
              "\n",
              "  <script>\n",
              "    async function quickchart(key) {\n",
              "      const quickchartButtonEl =\n",
              "        document.querySelector('#' + key + ' button');\n",
              "      quickchartButtonEl.disabled = true;  // To prevent multiple clicks.\n",
              "      quickchartButtonEl.classList.add('colab-df-spinner');\n",
              "      try {\n",
              "        const charts = await google.colab.kernel.invokeFunction(\n",
              "            'suggestCharts', [key], {});\n",
              "      } catch (error) {\n",
              "        console.error('Error during call to suggestCharts:', error);\n",
              "      }\n",
              "      quickchartButtonEl.classList.remove('colab-df-spinner');\n",
              "      quickchartButtonEl.classList.add('colab-df-quickchart-complete');\n",
              "    }\n",
              "    (() => {\n",
              "      let quickchartButtonEl =\n",
              "        document.querySelector('#df-57703bcc-3137-4543-bbff-055b8f76e48b button');\n",
              "      quickchartButtonEl.style.display =\n",
              "        google.colab.kernel.accessAllowed ? 'block' : 'none';\n",
              "    })();\n",
              "  </script>\n",
              "</div>\n",
              "\n",
              "    </div>\n",
              "  </div>\n"
            ],
            "text/plain": [
              "              MYCT          MMIN          MMAX        CACH       CHMIN  \\\n",
              "count   209.000000    209.000000    209.000000  209.000000  209.000000   \n",
              "mean    203.822967   2867.980861  11796.153110   25.205742    4.698565   \n",
              "std     260.262926   3878.742758  11726.564377   40.628722    6.816274   \n",
              "min      17.000000     64.000000     64.000000    0.000000    0.000000   \n",
              "25%      50.000000    768.000000   4000.000000    0.000000    1.000000   \n",
              "50%     110.000000   2000.000000   8000.000000    8.000000    2.000000   \n",
              "75%     225.000000   4000.000000  16000.000000   32.000000    6.000000   \n",
              "max    1500.000000  32000.000000  64000.000000  256.000000   52.000000   \n",
              "\n",
              "            CHMAX          PRP          ERP  \n",
              "count  209.000000   209.000000   209.000000  \n",
              "mean    18.267943   105.622010    99.330144  \n",
              "std     25.997318   160.830733   154.757102  \n",
              "min      0.000000     6.000000    15.000000  \n",
              "25%      5.000000    27.000000    28.000000  \n",
              "50%      8.000000    50.000000    45.000000  \n",
              "75%     24.000000   113.000000   101.000000  \n",
              "max    176.000000  1150.000000  1238.000000  "
            ]
          },
          "execution_count": 6,
          "metadata": {},
          "output_type": "execute_result"
        }
      ],
      "source": [
        "#mathematical description\n",
        "df.describe()"
      ]
    },
    {
      "cell_type": "code",
      "execution_count": null,
      "metadata": {
        "colab": {
          "base_uri": "https://localhost:8080/"
        },
        "id": "BN3oZW4Br915",
        "outputId": "eddfd3e0-df93-431b-f496-92f463cf51e8"
      },
      "outputs": [
        {
          "data": {
            "text/plain": [
              "0"
            ]
          },
          "execution_count": 7,
          "metadata": {},
          "output_type": "execute_result"
        }
      ],
      "source": [
        "#any duplicate values?\n",
        "df.duplicated().sum()# returns how many pairs of duplicates exist"
      ]
    },
    {
      "cell_type": "code",
      "execution_count": null,
      "metadata": {
        "colab": {
          "base_uri": "https://localhost:8080/"
        },
        "id": "D1lvY9IesGhP",
        "outputId": "2a140bb6-eb61-4077-a091-da4988a99c20"
      },
      "outputs": [
        {
          "data": {
            "text/plain": [
              "MYCT    -0.288396\n",
              "MMIN     0.819292\n",
              "MMAX     0.901202\n",
              "CACH     0.648620\n",
              "CHMIN    0.610580\n",
              "CHMAX    0.592156\n",
              "PRP      0.966472\n",
              "ERP      1.000000\n",
              "Name: ERP, dtype: float64"
            ]
          },
          "execution_count": 8,
          "metadata": {},
          "output_type": "execute_result"
        }
      ],
      "source": [
        "#correlation between cols\n",
        "# df.corr()\n",
        "t=df.select_dtypes(include='object').columns # to remove any categorical values from our dataset\n",
        "\n",
        "df_m = df.drop(columns=t)\n",
        "# print(df.head())\n",
        "\n",
        "df_m.corr()['ERP']"
      ]
    },
    {
      "cell_type": "markdown",
      "metadata": {
        "id": "YVorJeXhJsiu"
      },
      "source": [
        "<hr><hr>\n",
        "<b>Handling Outliers:</b>\n",
        "<hr>\n",
        "identifying outliers using boxplot for age.\n",
        "<br>\n",
        "<b>Detection using IQR method</b>:In this method, we calculate the IQR, which is the difference between the 75th and 25th percentiles of the data. We consider any data points that lie over 1.5 times the IQR below the 25th percentile or above the 75th percentile as outliers and we can remove or correct them.\n",
        "<br>\n",
        "<b>Handling using winsorization:</b> Winsorization is a method that replaces extreme values with less extreme values. In this method, we replace the extreme values with the maximum or minimum values of the dataset\n"
      ]
    },
    {
      "cell_type": "code",
      "execution_count": null,
      "metadata": {
        "colab": {
          "base_uri": "https://localhost:8080/",
          "height": 1000
        },
        "id": "QWXt7qosFGFI",
        "outputId": "e38ced62-e7cb-4ae1-a845-ff230f2e49d7"
      },
      "outputs": [
        {
          "data": {
            "image/png": "[encoded data removed]",
            "text/plain": [
              "<Figure size 800x600 with 1 Axes>"
            ]
          },
          "metadata": {},
          "output_type": "display_data"
        },
        {
          "name": "stdout",
          "output_type": "stream",
          "text": [
            "no.of outliers 20\n"
          ]
        },
        {
          "data": {
            "image/png": "[encoded data removed]",
            "text/plain": [
              "<Figure size 800x600 with 1 Axes>"
            ]
          },
          "metadata": {},
          "output_type": "display_data"
        }
      ],
      "source": [
        "import pandas as pd\n",
        "import matplotlib.pyplot as plt\n",
        "\n",
        "def visualize_outliers(df, column):\n",
        "    plt.figure(figsize=(8, 6))\n",
        "    df.boxplot(column=column)\n",
        "    plt.title('Boxplot of ' + column)\n",
        "    plt.ylabel('Values')\n",
        "    plt.show()\n",
        "\n",
        "visualize_outliers(df, 'MYCT')\n",
        "\n",
        "# Calculate the first and third quartiles\n",
        "Q1 = df['MYCT'].quantile(0.25)\n",
        "Q3 = df['MYCT'].quantile(0.75)\n",
        "\n",
        "    # Calculate the interquartile range (IQR)\n",
        "IQR = Q3 - Q1\n",
        "\n",
        "    # Calculate the lower and upper bounds for outliers\n",
        "lower_bound = Q1 - 1.5 * IQR\n",
        "upper_bound = Q3 + 1.5 * IQR\n",
        "\n",
        "    # Detect outliers\n",
        "outliers = df[(df['MYCT'] < lower_bound) | (df['MYCT'] > upper_bound)]\n",
        "print(\"no.of outliers\",len(outliers))\n",
        "  #handle outliers\n",
        "df['MYCT'] = df['MYCT'].apply(lambda x: lower_bound if x < lower_bound else upper_bound if x > upper_bound else x)\n",
        "visualize_outliers(df,'MYCT')\n"
      ]
    },
    {
      "cell_type": "markdown",
      "metadata": {
        "id": "52G00tfXRYoB"
      },
      "source": [
        "<hr><hr>\n"
      ]
    },
    {
      "cell_type": "markdown",
      "metadata": {
        "id": "bHv6e8VkGPCA"
      },
      "source": [
        "**Data Visualization and Analysis:**\n",
        "\n",
        "<hr>\n"
      ]
    },
    {
      "cell_type": "code",
      "execution_count": null,
      "metadata": {
        "colab": {
          "base_uri": "https://localhost:8080/",
          "height": 529
        },
        "id": "V2FsPf0BGHyU",
        "outputId": "1b646816-192c-471e-9521-dac09b2661d7"
      },
      "outputs": [
        {
          "data": {
            "image/png": "[encoded data removed]",
            "text/plain": [
              "<Figure size 2000x1500 with 9 Axes>"
            ]
          },
          "metadata": {},
          "output_type": "display_data"
        }
      ],
      "source": [
        "#univariate\n",
        "df.hist(bins=50, figsize=(20,15), color='b')\n",
        "plt.show()"
      ]
    },
    {
      "cell_type": "code",
      "execution_count": null,
      "metadata": {
        "colab": {
          "base_uri": "https://localhost:8080/",
          "height": 544
        },
        "id": "SVIvEQ_KLyxV",
        "outputId": "18b4eeb4-7a8b-40ed-94ab-e9127da70f24"
      },
      "outputs": [
        {
          "data": {
            "image/png": "[encoded data removed]",
            "text/plain": [
              "<Figure size 800x600 with 1 Axes>"
            ]
          },
          "metadata": {},
          "output_type": "display_data"
        }
      ],
      "source": [
        "#mulitvariate\n",
        "cach = df['CHMIN']\n",
        "erp = df['CACH']\n",
        "\n",
        "# Plot the scatterlot\n",
        "plt.figure(figsize=(8, 6))\n",
        "plt.scatter(cach, erp, color='red')  # 'alpha' controls the transparency of points\n",
        "plt.title('Scatterplot of CHMIN vs CACH')\n",
        "plt.xlabel('CHMIN')\n",
        "plt.ylabel('CACH')\n",
        "# plt.grid(True)\n",
        "plt.show()"
      ]
    },
    {
      "cell_type": "code",
      "execution_count": null,
      "metadata": {
        "colab": {
          "base_uri": "https://localhost:8080/",
          "height": 648
        },
        "id": "d5HiO8P0PHZB",
        "outputId": "089af676-9e52-4b37-d310-3bc301f093bc"
      },
      "outputs": [
        {
          "data": {
            "image/png": "[encoded data removed]",
            "text/plain": [
              "<Figure size 800x600 with 1 Axes>"
            ]
          },
          "metadata": {},
          "output_type": "display_data"
        },
        {
          "name": "stdout",
          "output_type": "stream",
          "text": [
            "  vendor_name model_name   MYCT  MMIN   MMAX  CACH  CHMIN  CHMAX  PRP  ERP\n",
            "0     adviser      32/60  125.0   256   6000   256     16    128  198  199\n",
            "1      amdahl     470v/7   29.0  8000  32000    32      8     32  269  253\n",
            "2      amdahl    470v/7a   29.0  8000  32000    32      8     32  220  253\n",
            "3      amdahl    470v/7b   29.0  8000  32000    32      8     32  172  253\n",
            "4      amdahl    470v/7c   29.0  8000  16000    32      8     16  132  132\n"
          ]
        }
      ],
      "source": [
        "avg_erp_by_cach = df.groupby('CHMIN')['CACH'].mean().reset_index()\n",
        "\n",
        "plt.figure(figsize=(8, 6))\n",
        "plt.bar(avg_erp_by_cach['CHMIN'], avg_erp_by_cach['CACH'], color='skyblue')\n",
        "plt.title('Average CHMIN by CACH')\n",
        "plt.xlabel('CHMIN')\n",
        "plt.ylabel('CACH')\n",
        "plt.xticks(avg_erp_by_cach['CHMIN'])\n",
        "plt.grid(axis='y')\n",
        "plt.show()\n",
        "print(df.head())"
      ]
    },
    {
      "cell_type": "markdown",
      "metadata": {
        "id": "xrLvs7c0Rj5w"
      },
      "source": [
        "**Converting Categorical to Numerical:**\n",
        "\n",
        "<hr>\n"
      ]
    },
    {
      "cell_type": "code",
      "execution_count": null,
      "metadata": {
        "colab": {
          "base_uri": "https://localhost:8080/"
        },
        "id": "Inoj_ig8R-4c",
        "outputId": "fe9b6edc-0c20-4d2c-a3ce-02883e5a5309"
      },
      "outputs": [
        {
          "name": "stdout",
          "output_type": "stream",
          "text": [
            "DataFrame with one-hot encoding:\n",
            "<class 'pandas.core.frame.DataFrame'>\n",
            "RangeIndex: 209 entries, 0 to 208\n",
            "Columns: 245 entries, MYCT to model_name_vs-90\n",
            "dtypes: float64(1), int64(244)\n",
            "memory usage: 400.2 KB\n",
            "None\n",
            "    MYCT  MMIN   MMAX  CACH  CHMIN  CHMAX  PRP  ERP  vendor_name_amdahl  \\\n",
            "0  125.0   256   6000   256     16    128  198  199                   0   \n",
            "1   29.0  8000  32000    32      8     32  269  253                   1   \n",
            "2   29.0  8000  32000    32      8     32  220  253                   1   \n",
            "3   29.0  8000  32000    32      8     32  172  253                   1   \n",
            "4   29.0  8000  16000    32      8     16  132  132                   1   \n",
            "\n",
            "   vendor_name_apollo  ...  model_name_v8635  model_name_v8650  \\\n",
            "0                   0  ...                 0                 0   \n",
            "1                   0  ...                 0                 0   \n",
            "2                   0  ...                 0                 0   \n",
            "3                   0  ...                 0                 0   \n",
            "4                   0  ...                 0                 0   \n",
            "\n",
            "   model_name_v8655  model_name_v8665  model_name_v8670  \\\n",
            "0                 0                 0                 0   \n",
            "1                 0                 0                 0   \n",
            "2                 0                 0                 0   \n",
            "3                 0                 0                 0   \n",
            "4                 0                 0                 0   \n",
            "\n",
            "   model_name_vax:11/730  model_name_vax:11/750  model_name_vax:11/780  \\\n",
            "0                      0                      0                      0   \n",
            "1                      0                      0                      0   \n",
            "2                      0                      0                      0   \n",
            "3                      0                      0                      0   \n",
            "4                      0                      0                      0   \n",
            "\n",
            "   model_name_vs-100  model_name_vs-90  \n",
            "0                  0                 0  \n",
            "1                  0                 0  \n",
            "2                  0                 0  \n",
            "3                  0                 0  \n",
            "4                  0                 0  \n",
            "\n",
            "[5 rows x 245 columns]\n",
            "<class 'pandas.core.frame.DataFrame'>\n",
            "RangeIndex: 209 entries, 0 to 208\n",
            "Data columns (total 10 columns):\n",
            " #   Column       Non-Null Count  Dtype  \n",
            "---  ------       --------------  -----  \n",
            " 0   vendor_name  209 non-null    object \n",
            " 1   model_name   209 non-null    object \n",
            " 2   MYCT         209 non-null    float64\n",
            " 3   MMIN         209 non-null    int64  \n",
            " 4   MMAX         209 non-null    int64  \n",
            " 5   CACH         209 non-null    int64  \n",
            " 6   CHMIN        209 non-null    int64  \n",
            " 7   CHMAX        209 non-null    int64  \n",
            " 8   PRP          209 non-null    int64  \n",
            " 9   ERP          209 non-null    int64  \n",
            "dtypes: float64(1), int64(7), object(2)\n",
            "memory usage: 16.5+ KB\n",
            "None\n"
          ]
        },
        {
          "name": "stderr",
          "output_type": "stream",
          "text": [
            "/usr/local/lib/python3.10/dist-packages/sklearn/preprocessing/_encoders.py:868: FutureWarning: `sparse` was renamed to `sparse_output` in version 1.2 and will be removed in 1.4. `sparse_output` is ignored unless you leave `sparse` to its default value.\n",
            "  warnings.warn(\n"
          ]
        }
      ],
      "source": [
        "from sklearn.preprocessing import OneHotEncoder\n",
        "import pandas as pd\n",
        "\n",
        "# List of nominal columns to be one-hot encoded\n",
        "nominal_columns = ['vendor_name','model_name'] # these 2 are the categorical in thee given dataset\n",
        "\n",
        "# Extract the nominal columns from the DataFrame\n",
        "nominal_data = df[nominal_columns]\n",
        "\n",
        "# Initialize OneHotEncoder with specified prefix\n",
        "encoder = OneHotEncoder(sparse=False, drop='first', categories='auto')\n",
        "\n",
        "# Fit and transform the nominal data using OneHotEncoder\n",
        "encoded_data = encoder.fit_transform(nominal_data)\n",
        "\n",
        "# Convert the encoded data into a DataFrame with column names\n",
        "encoded_df = pd.DataFrame(encoded_data, columns=encoder.get_feature_names_out(nominal_columns))\n",
        "encoded_df = encoded_df.astype(int)\n",
        "# Concatenate the encoded DataFrame with the original DataFrame\n",
        "df_encoded = pd.concat([df.drop(columns=nominal_columns), encoded_df], axis=1)\n",
        "\n",
        "# Display the DataFrame with one-hot encoding\n",
        "print(\"DataFrame with one-hot encoding:\")\n",
        "print(df_encoded.info())\n",
        "print(df_encoded.head())\n",
        "print(df.info())"
      ]
    },
    {
      "cell_type": "markdown",
      "metadata": {
        "id": "Mi7pyudnX543"
      },
      "source": [
        "<hr>\n",
        "<hr>\n"
      ]
    },
    {
      "cell_type": "markdown",
      "metadata": {
        "id": "oDd4pqRFXyVu"
      },
      "source": [
        "**Feature Engineering:**\n",
        "\n",
        "<hr>\n"
      ]
    },
    {
      "cell_type": "markdown",
      "metadata": {
        "id": "Ecfp1uEVe7sT"
      },
      "source": [
        "we check\n"
      ]
    },
    {
      "cell_type": "code",
      "execution_count": null,
      "metadata": {
        "colab": {
          "base_uri": "https://localhost:8080/"
        },
        "id": "c_u4_0_iXkLL",
        "outputId": "e0e9bb49-8167-4066-80b6-27d32555e997"
      },
      "outputs": [
        {
          "data": {
            "text/plain": [
              "ERP                   1.000000\n",
              "PRP                   0.966472\n",
              "MMAX                  0.901202\n",
              "MMIN                  0.819292\n",
              "CACH                  0.648620\n",
              "                        ...   \n",
              "vendor_name_ibm      -0.075872\n",
              "vendor_name_harris   -0.077051\n",
              "vendor_name_hp       -0.081874\n",
              "vendor_name_c.r.d    -0.082030\n",
              "MYCT                 -0.378280\n",
              "Name: ERP, Length: 245, dtype: float64"
            ]
          },
          "execution_count": 14,
          "metadata": {},
          "output_type": "execute_result"
        }
      ],
      "source": [
        "df_encoded.corr()['ERP'].sort_values(ascending=False)"
      ]
    },
    {
      "cell_type": "code",
      "execution_count": null,
      "metadata": {
        "colab": {
          "base_uri": "https://localhost:8080/"
        },
        "id": "zAB8xb2_YOtK",
        "outputId": "2a85289e-289d-4ea1-b2d5-52c6c95b917d"
      },
      "outputs": [
        {
          "name": "stdout",
          "output_type": "stream",
          "text": [
            "<class 'pandas.core.series.Series'>\n",
            "RangeIndex: 209 entries, 0 to 208\n",
            "Series name: ERP\n",
            "Non-Null Count  Dtype\n",
            "--------------  -----\n",
            "209 non-null    int64\n",
            "dtypes: int64(1)\n",
            "memory usage: 1.8 KB\n",
            "None\n",
            "<class 'pandas.core.frame.DataFrame'>\n",
            "RangeIndex: 209 entries, 0 to 208\n",
            "Data columns (total 20 columns):\n",
            " #   Column                  Non-Null Count  Dtype  \n",
            "---  ------                  --------------  -----  \n",
            " 0   MYCT                    209 non-null    float64\n",
            " 1   MMIN                    209 non-null    int64  \n",
            " 2   MMAX                    209 non-null    int64  \n",
            " 3   CACH                    209 non-null    int64  \n",
            " 4   CHMIN                   209 non-null    int64  \n",
            " 5   CHMAX                   209 non-null    int64  \n",
            " 6   PRP                     209 non-null    int64  \n",
            " 7   ERP                     209 non-null    int64  \n",
            " 8   vendor_name_amdahl      209 non-null    int64  \n",
            " 9   vendor_name_apollo      209 non-null    int64  \n",
            " 10  vendor_name_basf        209 non-null    int64  \n",
            " 11  vendor_name_bti         209 non-null    int64  \n",
            " 12  vendor_name_burroughs   209 non-null    int64  \n",
            " 13  vendor_name_c.r.d       209 non-null    int64  \n",
            " 14  vendor_name_cambex      209 non-null    int64  \n",
            " 15  vendor_name_cdc         209 non-null    int64  \n",
            " 16  vendor_name_dec         209 non-null    int64  \n",
            " 17  vendor_name_dg          209 non-null    int64  \n",
            " 18  vendor_name_formation   209 non-null    int64  \n",
            " 19  vendor_name_four-phase  209 non-null    int64  \n",
            "dtypes: float64(1), int64(19)\n",
            "memory usage: 32.8 KB\n",
            "None\n"
          ]
        }
      ],
      "source": [
        "dff = df_encoded\n",
        "\n",
        "X = dff.iloc[:, 0:7].join(dff.iloc[:, 7:20])  # Joining columns from index 0 to 7 and from index 7 to 20\n",
        "y = dff.iloc[:, 7]   # Extract column at index 7\n",
        "print(y.info())\n",
        "print(X.info())"
      ]
    },
    {
      "cell_type": "code",
      "execution_count": null,
      "metadata": {
        "id": "RNz7KEmYdAbo"
      },
      "outputs": [],
      "source": [
        "#univariate selection\n",
        "from sklearn.feature_selection import SelectKBest\n",
        "from sklearn.feature_selection import chi2\n",
        "bestfeatures = SelectKBest(score_func=chi2, k=10)\n",
        "fit = bestfeatures.fit(X,y)"
      ]
    },
    {
      "cell_type": "code",
      "execution_count": null,
      "metadata": {
        "id": "eSFq9gEciFB9"
      },
      "outputs": [],
      "source": [
        "dfscores = pd.DataFrame(fit.scores_)\n",
        "dfcolumns = pd.DataFrame(X.columns)"
      ]
    },
    {
      "cell_type": "code",
      "execution_count": null,
      "metadata": {
        "colab": {
          "base_uri": "https://localhost:8080/",
          "height": 676
        },
        "id": "Z2-fPxdjiFvS",
        "outputId": "f2056ed6-1942-4e66-84d8-f193bea0a5c7"
      },
      "outputs": [
        {
          "data": {
            "application/vnd.google.colaboratory.intrinsic+json": {
              "summary": "{\n  \"name\": \"featureScores\",\n  \"rows\": 20,\n  \"fields\": [\n    {\n      \"column\": \"Specs\",\n      \"properties\": {\n        \"dtype\": \"string\",\n        \"num_unique_values\": 20,\n        \"samples\": [\n          \"MYCT\",\n          \"vendor_name_dg\",\n          \"vendor_name_cdc\"\n        ],\n        \"semantic_type\": \"\",\n        \"description\": \"\"\n      }\n    },\n    {\n      \"column\": \"Score\",\n      \"properties\": {\n        \"dtype\": \"number\",\n        \"std\": 576801.0322065379,\n        \"min\": 33.82857142857147,\n        \"max\": 2412915.9704735926,\n        \"num_unique_values\": 20,\n        \"samples\": [\n          19863.931223332624,\n          87.54761904761914,\n          119.49629629629639\n        ],\n        \"semantic_type\": \"\",\n        \"description\": \"\"\n      }\n    }\n  ]\n}",
              "type": "dataframe",
              "variable_name": "featureScores"
            },
            "text/html": [
              "\n",
              "  <div id=\"df-843d4da0-192b-4255-aed8-9a29f6af7030\" class=\"colab-df-container\">\n",
              "    <div>\n",
              "<style scoped>\n",
              "    .dataframe tbody tr th:only-of-type {\n",
              "        vertical-align: middle;\n",
              "    }\n",
              "\n",
              "    .dataframe tbody tr th {\n",
              "        vertical-align: top;\n",
              "    }\n",
              "\n",
              "    .dataframe thead th {\n",
              "        text-align: right;\n",
              "    }\n",
              "</style>\n",
              "<table border=\"1\" class=\"dataframe\">\n",
              "  <thead>\n",
              "    <tr style=\"text-align: right;\">\n",
              "      <th></th>\n",
              "      <th>Specs</th>\n",
              "      <th>Score</th>\n",
              "    </tr>\n",
              "  </thead>\n",
              "  <tbody>\n",
              "    <tr>\n",
              "      <th>0</th>\n",
              "      <td>MYCT</td>\n",
              "      <td>1.986393e+04</td>\n",
              "    </tr>\n",
              "    <tr>\n",
              "      <th>1</th>\n",
              "      <td>MMIN</td>\n",
              "      <td>1.073485e+06</td>\n",
              "    </tr>\n",
              "    <tr>\n",
              "      <th>2</th>\n",
              "      <td>MMAX</td>\n",
              "      <td>2.412916e+06</td>\n",
              "    </tr>\n",
              "    <tr>\n",
              "      <th>3</th>\n",
              "      <td>CACH</td>\n",
              "      <td>1.332885e+04</td>\n",
              "    </tr>\n",
              "    <tr>\n",
              "      <th>4</th>\n",
              "      <td>CHMIN</td>\n",
              "      <td>1.944447e+03</td>\n",
              "    </tr>\n",
              "    <tr>\n",
              "      <th>5</th>\n",
              "      <td>CHMAX</td>\n",
              "      <td>6.752382e+03</td>\n",
              "    </tr>\n",
              "    <tr>\n",
              "      <th>6</th>\n",
              "      <td>PRP</td>\n",
              "      <td>5.054715e+04</td>\n",
              "    </tr>\n",
              "    <tr>\n",
              "      <th>7</th>\n",
              "      <td>ERP</td>\n",
              "      <td>5.015144e+04</td>\n",
              "    </tr>\n",
              "    <tr>\n",
              "      <th>8</th>\n",
              "      <td>vendor_name_amdahl</td>\n",
              "      <td>2.000000e+02</td>\n",
              "    </tr>\n",
              "    <tr>\n",
              "      <th>9</th>\n",
              "      <td>vendor_name_apollo</td>\n",
              "      <td>3.382857e+01</td>\n",
              "    </tr>\n",
              "    <tr>\n",
              "      <th>10</th>\n",
              "      <td>vendor_name_basf</td>\n",
              "      <td>1.547500e+02</td>\n",
              "    </tr>\n",
              "    <tr>\n",
              "      <th>11</th>\n",
              "      <td>vendor_name_bti</td>\n",
              "      <td>1.025000e+02</td>\n",
              "    </tr>\n",
              "    <tr>\n",
              "      <th>12</th>\n",
              "      <td>vendor_name_burroughs</td>\n",
              "      <td>1.113042e+02</td>\n",
              "    </tr>\n",
              "    <tr>\n",
              "      <th>13</th>\n",
              "      <td>vendor_name_c.r.d</td>\n",
              "      <td>6.656944e+01</td>\n",
              "    </tr>\n",
              "    <tr>\n",
              "      <th>14</th>\n",
              "      <td>vendor_name_cambex</td>\n",
              "      <td>8.765667e+01</td>\n",
              "    </tr>\n",
              "    <tr>\n",
              "      <th>15</th>\n",
              "      <td>vendor_name_cdc</td>\n",
              "      <td>1.194963e+02</td>\n",
              "    </tr>\n",
              "    <tr>\n",
              "      <th>16</th>\n",
              "      <td>vendor_name_dec</td>\n",
              "      <td>7.914815e+01</td>\n",
              "    </tr>\n",
              "    <tr>\n",
              "      <th>17</th>\n",
              "      <td>vendor_name_dg</td>\n",
              "      <td>8.754762e+01</td>\n",
              "    </tr>\n",
              "    <tr>\n",
              "      <th>18</th>\n",
              "      <td>vendor_name_formation</td>\n",
              "      <td>1.691667e+02</td>\n",
              "    </tr>\n",
              "    <tr>\n",
              "      <th>19</th>\n",
              "      <td>vendor_name_four-phase</td>\n",
              "      <td>5.125000e+01</td>\n",
              "    </tr>\n",
              "  </tbody>\n",
              "</table>\n",
              "</div>\n",
              "    <div class=\"colab-df-buttons\">\n",
              "\n",
              "  <div class=\"colab-df-container\">\n",
              "    <button class=\"colab-df-convert\" onclick=\"convertToInteractive('df-843d4da0-192b-4255-aed8-9a29f6af7030')\"\n",
              "            title=\"Convert this dataframe to an interactive table.\"\n",
              "            style=\"display:none;\">\n",
              "\n",
              "  <svg xmlns=\"http://www.w3.org/2000/svg\" height=\"24px\" viewBox=\"0 -960 960 960\">\n",
              "    <path d=\"M120-120v-720h720v720H120Zm60-500h600v-160H180v160Zm220 220h160v-160H400v160Zm0 220h160v-160H400v160ZM180-400h160v-160H180v160Zm440 0h160v-160H620v160ZM180-180h160v-160H180v160Zm440 0h160v-160H620v160Z\"/>\n",
              "  </svg>\n",
              "    </button>\n",
              "\n",
              "  <style>\n",
              "    .colab-df-container {\n",
              "      display:flex;\n",
              "      gap: 12px;\n",
              "    }\n",
              "\n",
              "    .colab-df-convert {\n",
              "      background-color: #E8F0FE;\n",
              "      border: none;\n",
              "      border-radius: 50%;\n",
              "      cursor: pointer;\n",
              "      display: none;\n",
              "      fill: #1967D2;\n",
              "      height: 32px;\n",
              "      padding: 0 0 0 0;\n",
              "      width: 32px;\n",
              "    }\n",
              "\n",
              "    .colab-df-convert:hover {\n",
              "      background-color: #E2EBFA;\n",
              "      box-shadow: 0px 1px 2px rgba(60, 64, 67, 0.3), 0px 1px 3px 1px rgba(60, 64, 67, 0.15);\n",
              "      fill: #174EA6;\n",
              "    }\n",
              "\n",
              "    .colab-df-buttons div {\n",
              "      margin-bottom: 4px;\n",
              "    }\n",
              "\n",
              "    [theme=dark] .colab-df-convert {\n",
              "      background-color: #3B4455;\n",
              "      fill: #D2E3FC;\n",
              "    }\n",
              "\n",
              "    [theme=dark] .colab-df-convert:hover {\n",
              "      background-color: #434B5C;\n",
              "      box-shadow: 0px 1px 3px 1px rgba(0, 0, 0, 0.15);\n",
              "      filter: drop-shadow(0px 1px 2px rgba(0, 0, 0, 0.3));\n",
              "      fill: #FFFFFF;\n",
              "    }\n",
              "  </style>\n",
              "\n",
              "    <script>\n",
              "      const buttonEl =\n",
              "        document.querySelector('#df-843d4da0-192b-4255-aed8-9a29f6af7030 button.colab-df-convert');\n",
              "      buttonEl.style.display =\n",
              "        google.colab.kernel.accessAllowed ? 'block' : 'none';\n",
              "\n",
              "      async function convertToInteractive(key) {\n",
              "        const element = document.querySelector('#df-843d4da0-192b-4255-aed8-9a29f6af7030');\n",
              "        const dataTable =\n",
              "          await google.colab.kernel.invokeFunction('convertToInteractive',\n",
              "                                                    [key], {});\n",
              "        if (!dataTable) return;\n",
              "\n",
              "        const docLinkHtml = 'Like what you see? Visit the ' +\n",
              "          '<a target=\"_blank\" href=https://colab.research.google.com/notebooks/data_table.ipynb>data table notebook</a>'\n",
              "          + ' to learn more about interactive tables.';\n",
              "        element.innerHTML = '';\n",
              "        dataTable['output_type'] = 'display_data';\n",
              "        await google.colab.output.renderOutput(dataTable, element);\n",
              "        const docLink = document.createElement('div');\n",
              "        docLink.innerHTML = docLinkHtml;\n",
              "        element.appendChild(docLink);\n",
              "      }\n",
              "    </script>\n",
              "  </div>\n",
              "\n",
              "\n",
              "<div id=\"df-08dc70d2-387a-48cc-8b76-b4067da2ea10\">\n",
              "  <button class=\"colab-df-quickchart\" onclick=\"quickchart('df-08dc70d2-387a-48cc-8b76-b4067da2ea10')\"\n",
              "            title=\"Suggest charts\"\n",
              "            style=\"display:none;\">\n",
              "\n",
              "<svg xmlns=\"http://www.w3.org/2000/svg\" height=\"24px\"viewBox=\"0 0 24 24\"\n",
              "     width=\"24px\">\n",
              "    <g>\n",
              "        <path d=\"M19 3H5c-1.1 0-2 .9-2 2v14c0 1.1.9 2 2 2h14c1.1 0 2-.9 2-2V5c0-1.1-.9-2-2-2zM9 17H7v-7h2v7zm4 0h-2V7h2v10zm4 0h-2v-4h2v4z\"/>\n",
              "    </g>\n",
              "</svg>\n",
              "  </button>\n",
              "\n",
              "<style>\n",
              "  .colab-df-quickchart {\n",
              "      --bg-color: #E8F0FE;\n",
              "      --fill-color: #1967D2;\n",
              "      --hover-bg-color: #E2EBFA;\n",
              "      --hover-fill-color: #174EA6;\n",
              "      --disabled-fill-color: #AAA;\n",
              "      --disabled-bg-color: #DDD;\n",
              "  }\n",
              "\n",
              "  [theme=dark] .colab-df-quickchart {\n",
              "      --bg-color: #3B4455;\n",
              "      --fill-color: #D2E3FC;\n",
              "      --hover-bg-color: #434B5C;\n",
              "      --hover-fill-color: #FFFFFF;\n",
              "      --disabled-bg-color: #3B4455;\n",
              "      --disabled-fill-color: #666;\n",
              "  }\n",
              "\n",
              "  .colab-df-quickchart {\n",
              "    background-color: var(--bg-color);\n",
              "    border: none;\n",
              "    border-radius: 50%;\n",
              "    cursor: pointer;\n",
              "    display: none;\n",
              "    fill: var(--fill-color);\n",
              "    height: 32px;\n",
              "    padding: 0;\n",
              "    width: 32px;\n",
              "  }\n",
              "\n",
              "  .colab-df-quickchart:hover {\n",
              "    background-color: var(--hover-bg-color);\n",
              "    box-shadow: 0 1px 2px rgba(60, 64, 67, 0.3), 0 1px 3px 1px rgba(60, 64, 67, 0.15);\n",
              "    fill: var(--button-hover-fill-color);\n",
              "  }\n",
              "\n",
              "  .colab-df-quickchart-complete:disabled,\n",
              "  .colab-df-quickchart-complete:disabled:hover {\n",
              "    background-color: var(--disabled-bg-color);\n",
              "    fill: var(--disabled-fill-color);\n",
              "    box-shadow: none;\n",
              "  }\n",
              "\n",
              "  .colab-df-spinner {\n",
              "    border: 2px solid var(--fill-color);\n",
              "    border-color: transparent;\n",
              "    border-bottom-color: var(--fill-color);\n",
              "    animation:\n",
              "      spin 1s steps(1) infinite;\n",
              "  }\n",
              "\n",
              "  @keyframes spin {\n",
              "    0% {\n",
              "      border-color: transparent;\n",
              "      border-bottom-color: var(--fill-color);\n",
              "      border-left-color: var(--fill-color);\n",
              "    }\n",
              "    20% {\n",
              "      border-color: transparent;\n",
              "      border-left-color: var(--fill-color);\n",
              "      border-top-color: var(--fill-color);\n",
              "    }\n",
              "    30% {\n",
              "      border-color: transparent;\n",
              "      border-left-color: var(--fill-color);\n",
              "      border-top-color: var(--fill-color);\n",
              "      border-right-color: var(--fill-color);\n",
              "    }\n",
              "    40% {\n",
              "      border-color: transparent;\n",
              "      border-right-color: var(--fill-color);\n",
              "      border-top-color: var(--fill-color);\n",
              "    }\n",
              "    60% {\n",
              "      border-color: transparent;\n",
              "      border-right-color: var(--fill-color);\n",
              "    }\n",
              "    80% {\n",
              "      border-color: transparent;\n",
              "      border-right-color: var(--fill-color);\n",
              "      border-bottom-color: var(--fill-color);\n",
              "    }\n",
              "    90% {\n",
              "      border-color: transparent;\n",
              "      border-bottom-color: var(--fill-color);\n",
              "    }\n",
              "  }\n",
              "</style>\n",
              "\n",
              "  <script>\n",
              "    async function quickchart(key) {\n",
              "      const quickchartButtonEl =\n",
              "        document.querySelector('#' + key + ' button');\n",
              "      quickchartButtonEl.disabled = true;  // To prevent multiple clicks.\n",
              "      quickchartButtonEl.classList.add('colab-df-spinner');\n",
              "      try {\n",
              "        const charts = await google.colab.kernel.invokeFunction(\n",
              "            'suggestCharts', [key], {});\n",
              "      } catch (error) {\n",
              "        console.error('Error during call to suggestCharts:', error);\n",
              "      }\n",
              "      quickchartButtonEl.classList.remove('colab-df-spinner');\n",
              "      quickchartButtonEl.classList.add('colab-df-quickchart-complete');\n",
              "    }\n",
              "    (() => {\n",
              "      let quickchartButtonEl =\n",
              "        document.querySelector('#df-08dc70d2-387a-48cc-8b76-b4067da2ea10 button');\n",
              "      quickchartButtonEl.style.display =\n",
              "        google.colab.kernel.accessAllowed ? 'block' : 'none';\n",
              "    })();\n",
              "  </script>\n",
              "</div>\n",
              "\n",
              "  <div id=\"id_f029a231-3bdb-4fdb-99b2-b0aced80971b\">\n",
              "    <style>\n",
              "      .colab-df-generate {\n",
              "        background-color: #E8F0FE;\n",
              "        border: none;\n",
              "        border-radius: 50%;\n",
              "        cursor: pointer;\n",
              "        display: none;\n",
              "        fill: #1967D2;\n",
              "        height: 32px;\n",
              "        padding: 0 0 0 0;\n",
              "        width: 32px;\n",
              "      }\n",
              "\n",
              "      .colab-df-generate:hover {\n",
              "        background-color: #E2EBFA;\n",
              "        box-shadow: 0px 1px 2px rgba(60, 64, 67, 0.3), 0px 1px 3px 1px rgba(60, 64, 67, 0.15);\n",
              "        fill: #174EA6;\n",
              "      }\n",
              "\n",
              "      [theme=dark] .colab-df-generate {\n",
              "        background-color: #3B4455;\n",
              "        fill: #D2E3FC;\n",
              "      }\n",
              "\n",
              "      [theme=dark] .colab-df-generate:hover {\n",
              "        background-color: #434B5C;\n",
              "        box-shadow: 0px 1px 3px 1px rgba(0, 0, 0, 0.15);\n",
              "        filter: drop-shadow(0px 1px 2px rgba(0, 0, 0, 0.3));\n",
              "        fill: #FFFFFF;\n",
              "      }\n",
              "    </style>\n",
              "    <button class=\"colab-df-generate\" onclick=\"generateWithVariable('featureScores')\"\n",
              "            title=\"Generate code using this dataframe.\"\n",
              "            style=\"display:none;\">\n",
              "\n",
              "  <svg xmlns=\"http://www.w3.org/2000/svg\" height=\"24px\"viewBox=\"0 0 24 24\"\n",
              "       width=\"24px\">\n",
              "    <path d=\"M7,19H8.4L18.45,9,17,7.55,7,17.6ZM5,21V16.75L18.45,3.32a2,2,0,0,1,2.83,0l1.4,1.43a1.91,1.91,0,0,1,.58,1.4,1.91,1.91,0,0,1-.58,1.4L9.25,21ZM18.45,9,17,7.55Zm-12,3A5.31,5.31,0,0,0,4.9,8.1,5.31,5.31,0,0,0,1,6.5,5.31,5.31,0,0,0,4.9,4.9,5.31,5.31,0,0,0,6.5,1,5.31,5.31,0,0,0,8.1,4.9,5.31,5.31,0,0,0,12,6.5,5.46,5.46,0,0,0,6.5,12Z\"/>\n",
              "  </svg>\n",
              "    </button>\n",
              "    <script>\n",
              "      (() => {\n",
              "      const buttonEl =\n",
              "        document.querySelector('#id_f029a231-3bdb-4fdb-99b2-b0aced80971b button.colab-df-generate');\n",
              "      buttonEl.style.display =\n",
              "        google.colab.kernel.accessAllowed ? 'block' : 'none';\n",
              "\n",
              "      buttonEl.onclick = () => {\n",
              "        google.colab.notebook.generateWithVariable('featureScores');\n",
              "      }\n",
              "      })();\n",
              "    </script>\n",
              "  </div>\n",
              "\n",
              "    </div>\n",
              "  </div>\n"
            ],
            "text/plain": [
              "                     Specs         Score\n",
              "0                     MYCT  1.986393e+04\n",
              "1                     MMIN  1.073485e+06\n",
              "2                     MMAX  2.412916e+06\n",
              "3                     CACH  1.332885e+04\n",
              "4                    CHMIN  1.944447e+03\n",
              "5                    CHMAX  6.752382e+03\n",
              "6                      PRP  5.054715e+04\n",
              "7                      ERP  5.015144e+04\n",
              "8       vendor_name_amdahl  2.000000e+02\n",
              "9       vendor_name_apollo  3.382857e+01\n",
              "10        vendor_name_basf  1.547500e+02\n",
              "11         vendor_name_bti  1.025000e+02\n",
              "12   vendor_name_burroughs  1.113042e+02\n",
              "13       vendor_name_c.r.d  6.656944e+01\n",
              "14      vendor_name_cambex  8.765667e+01\n",
              "15         vendor_name_cdc  1.194963e+02\n",
              "16         vendor_name_dec  7.914815e+01\n",
              "17          vendor_name_dg  8.754762e+01\n",
              "18   vendor_name_formation  1.691667e+02\n",
              "19  vendor_name_four-phase  5.125000e+01"
            ]
          },
          "execution_count": 18,
          "metadata": {},
          "output_type": "execute_result"
        }
      ],
      "source": [
        "#concat two dataframes for better visualization\n",
        "featureScores = pd.concat([dfcolumns,dfscores],axis=1)\n",
        "featureScores.columns = ['Specs','Score']  #naming the dataframe columns\n",
        "featureScores"
      ]
    },
    {
      "cell_type": "code",
      "execution_count": null,
      "metadata": {
        "colab": {
          "base_uri": "https://localhost:8080/"
        },
        "id": "x2EG7eYWdMJU",
        "outputId": "71d86350-b735-4318-cb5b-3e8dcad0b019"
      },
      "outputs": [
        {
          "name": "stdout",
          "output_type": "stream",
          "text": [
            "                    Specs         Score\n",
            "2                    MMAX  2.412916e+06\n",
            "1                    MMIN  1.073485e+06\n",
            "6                     PRP  5.054715e+04\n",
            "7                     ERP  5.015144e+04\n",
            "0                    MYCT  1.986393e+04\n",
            "3                    CACH  1.332885e+04\n",
            "5                   CHMAX  6.752382e+03\n",
            "4                   CHMIN  1.944447e+03\n",
            "8      vendor_name_amdahl  2.000000e+02\n",
            "18  vendor_name_formation  1.691667e+02\n"
          ]
        }
      ],
      "source": [
        "print(featureScores.nlargest(10,'Score'))  #print best features"
      ]
    },
    {
      "cell_type": "markdown",
      "metadata": {
        "id": "gKm-XwVjhKcY"
      },
      "source": [
        "considering above best 20 features and dropping off remaining columns for our training.\n"
      ]
    },
    {
      "cell_type": "code",
      "execution_count": null,
      "metadata": {
        "id": "sBpAWGDZhrJ9"
      },
      "outputs": [],
      "source": [
        "\n",
        "columns = [\n",
        "    'MMAX',\n",
        "    'MMIN',\n",
        "    'PRP',\n",
        "    'ERP',\n",
        "    'MYCT',\n",
        "    'CACH',\n",
        "    'CHMAX',\n",
        "    'CHMIN',\n",
        "    'vendor_name_amdahl',\n",
        "    'vendor_name_formation'\n",
        "]\n",
        "\n",
        "dff_new = dff[columns]"
      ]
    },
    {
      "cell_type": "code",
      "execution_count": null,
      "metadata": {
        "colab": {
          "base_uri": "https://localhost:8080/"
        },
        "id": "dZ6gqhDkjoJy",
        "outputId": "0fcc546e-e265-4999-b3ce-aea1c3ad20d3"
      },
      "outputs": [
        {
          "name": "stdout",
          "output_type": "stream",
          "text": [
            "<class 'pandas.core.frame.DataFrame'>\n",
            "RangeIndex: 209 entries, 0 to 208\n",
            "Data columns (total 10 columns):\n",
            " #   Column                 Non-Null Count  Dtype  \n",
            "---  ------                 --------------  -----  \n",
            " 0   MMAX                   209 non-null    int64  \n",
            " 1   MMIN                   209 non-null    int64  \n",
            " 2   PRP                    209 non-null    int64  \n",
            " 3   ERP                    209 non-null    int64  \n",
            " 4   MYCT                   209 non-null    float64\n",
            " 5   CACH                   209 non-null    int64  \n",
            " 6   CHMAX                  209 non-null    int64  \n",
            " 7   CHMIN                  209 non-null    int64  \n",
            " 8   vendor_name_amdahl     209 non-null    int64  \n",
            " 9   vendor_name_formation  209 non-null    int64  \n",
            "dtypes: float64(1), int64(9)\n",
            "memory usage: 16.5 KB\n",
            "None\n"
          ]
        }
      ],
      "source": [
        "dff_new.shape\n",
        "print(dff_new.info())"
      ]
    },
    {
      "cell_type": "markdown",
      "metadata": {
        "id": "FOGSwoMSj65_"
      },
      "source": [
        "<hr>\n",
        "<hr>\n"
      ]
    },
    {
      "cell_type": "markdown",
      "metadata": {
        "id": "v8hUOplAj9Mp"
      },
      "source": [
        "**Training and model evaluation:**\n",
        "\n",
        "<hr>\n"
      ]
    },
    {
      "cell_type": "code",
      "execution_count": null,
      "metadata": {
        "id": "eTiUo46jl-7l"
      },
      "outputs": [],
      "source": [
        "import sklearn"
      ]
    },
    {
      "cell_type": "code",
      "execution_count": null,
      "metadata": {
        "id": "SUOoXcjBjppa"
      },
      "outputs": [],
      "source": [
        "from sklearn.model_selection import train_test_split\n",
        "# some = df_encoded\n",
        "Y = dff_new['ERP']\n",
        "X = dff_new.drop('ERP',axis=1)\n",
        "# X = dff\n",
        "X_train,X_test,Y_train,Y_test=train_test_split(X,Y,test_size=0.1)\n"
      ]
    },
    {
      "cell_type": "code",
      "execution_count": null,
      "metadata": {
        "colab": {
          "base_uri": "https://localhost:8080/"
        },
        "id": "ihU8h0K-kqb7",
        "outputId": "2341b90b-f767-4585-d158-7e644833ef93"
      },
      "outputs": [
        {
          "name": "stdout",
          "output_type": "stream",
          "text": [
            "<class 'pandas.core.frame.DataFrame'>\n",
            "Index: 188 entries, 179 to 3\n",
            "Data columns (total 9 columns):\n",
            " #   Column                 Non-Null Count  Dtype  \n",
            "---  ------                 --------------  -----  \n",
            " 0   MMAX                   188 non-null    int64  \n",
            " 1   MMIN                   188 non-null    int64  \n",
            " 2   PRP                    188 non-null    int64  \n",
            " 3   MYCT                   188 non-null    float64\n",
            " 4   CACH                   188 non-null    int64  \n",
            " 5   CHMAX                  188 non-null    int64  \n",
            " 6   CHMIN                  188 non-null    int64  \n",
            " 7   vendor_name_amdahl     188 non-null    int64  \n",
            " 8   vendor_name_formation  188 non-null    int64  \n",
            "dtypes: float64(1), int64(8)\n",
            "memory usage: 14.7 KB\n"
          ]
        }
      ],
      "source": [
        "X_train.info()"
      ]
    },
    {
      "cell_type": "code",
      "execution_count": null,
      "metadata": {
        "id": "7kuKdRO1kryq"
      },
      "outputs": [],
      "source": [
        "# simple linear regression\n",
        "from sklearn import linear_model\n",
        "lm=linear_model.LinearRegression()"
      ]
    },
    {
      "cell_type": "code",
      "execution_count": null,
      "metadata": {
        "colab": {
          "base_uri": "https://localhost:8080/",
          "height": 74
        },
        "id": "9GBPssWzlK-Y",
        "outputId": "24e66574-9bc6-47be-b18e-49daba404474"
      },
      "outputs": [
        {
          "data": {
            "text/html": [
              "<style>#sk-container-id-1 {color: black;background-color: white;}#sk-container-id-1 pre{padding: 0;}#sk-container-id-1 div.sk-toggleable {background-color: white;}#sk-container-id-1 label.sk-toggleable__label {cursor: pointer;display: block;width: 100%;margin-bottom: 0;padding: 0.3em;box-sizing: border-box;text-align: center;}#sk-container-id-1 label.sk-toggleable__label-arrow:before {content: \"▸\";float: left;margin-right: 0.25em;color: #696969;}#sk-container-id-1 label.sk-toggleable__label-arrow:hover:before {color: black;}#sk-container-id-1 div.sk-estimator:hover label.sk-toggleable__label-arrow:before {color: black;}#sk-container-id-1 div.sk-toggleable__content {max-height: 0;max-width: 0;overflow: hidden;text-align: left;background-color: #f0f8ff;}#sk-container-id-1 div.sk-toggleable__content pre {margin: 0.2em;color: black;border-radius: 0.25em;background-color: #f0f8ff;}#sk-container-id-1 input.sk-toggleable__control:checked~div.sk-toggleable__content {max-height: 200px;max-width: 100%;overflow: auto;}#sk-container-id-1 input.sk-toggleable__control:checked~label.sk-toggleable__label-arrow:before {content: \"▾\";}#sk-container-id-1 div.sk-estimator input.sk-toggleable__control:checked~label.sk-toggleable__label {background-color: #d4ebff;}#sk-container-id-1 div.sk-label input.sk-toggleable__control:checked~label.sk-toggleable__label {background-color: #d4ebff;}#sk-container-id-1 input.sk-hidden--visually {border: 0;clip: rect(1px 1px 1px 1px);clip: rect(1px, 1px, 1px, 1px);height: 1px;margin: -1px;overflow: hidden;padding: 0;position: absolute;width: 1px;}#sk-container-id-1 div.sk-estimator {font-family: monospace;background-color: #f0f8ff;border: 1px dotted black;border-radius: 0.25em;box-sizing: border-box;margin-bottom: 0.5em;}#sk-container-id-1 div.sk-estimator:hover {background-color: #d4ebff;}#sk-container-id-1 div.sk-parallel-item::after {content: \"\";width: 100%;border-bottom: 1px solid gray;flex-grow: 1;}#sk-container-id-1 div.sk-label:hover label.sk-toggleable__label {background-color: #d4ebff;}#sk-container-id-1 div.sk-serial::before {content: \"\";position: absolute;border-left: 1px solid gray;box-sizing: border-box;top: 0;bottom: 0;left: 50%;z-index: 0;}#sk-container-id-1 div.sk-serial {display: flex;flex-direction: column;align-items: center;background-color: white;padding-right: 0.2em;padding-left: 0.2em;position: relative;}#sk-container-id-1 div.sk-item {position: relative;z-index: 1;}#sk-container-id-1 div.sk-parallel {display: flex;align-items: stretch;justify-content: center;background-color: white;position: relative;}#sk-container-id-1 div.sk-item::before, #sk-container-id-1 div.sk-parallel-item::before {content: \"\";position: absolute;border-left: 1px solid gray;box-sizing: border-box;top: 0;bottom: 0;left: 50%;z-index: -1;}#sk-container-id-1 div.sk-parallel-item {display: flex;flex-direction: column;z-index: 1;position: relative;background-color: white;}#sk-container-id-1 div.sk-parallel-item:first-child::after {align-self: flex-end;width: 50%;}#sk-container-id-1 div.sk-parallel-item:last-child::after {align-self: flex-start;width: 50%;}#sk-container-id-1 div.sk-parallel-item:only-child::after {width: 0;}#sk-container-id-1 div.sk-dashed-wrapped {border: 1px dashed gray;margin: 0 0.4em 0.5em 0.4em;box-sizing: border-box;padding-bottom: 0.4em;background-color: white;}#sk-container-id-1 div.sk-label label {font-family: monospace;font-weight: bold;display: inline-block;line-height: 1.2em;}#sk-container-id-1 div.sk-label-container {text-align: center;}#sk-container-id-1 div.sk-container {/* jupyter's `normalize.less` sets `[hidden] { display: none; }` but bootstrap.min.css set `[hidden] { display: none !important; }` so we also need the `!important` here to be able to override the default hidden behavior on the sphinx rendered scikit-learn.org. See: https://github.com/scikit-learn/scikit-learn/issues/21755 */display: inline-block !important;position: relative;}#sk-container-id-1 div.sk-text-repr-fallback {display: none;}</style><div id=\"sk-container-id-1\" class=\"sk-top-container\"><div class=\"sk-text-repr-fallback\"><pre>LinearRegression()</pre><b>In a Jupyter environment, please rerun this cell to show the HTML representation or trust the notebook. <br />On GitHub, the HTML representation is unable to render, please try loading this page with nbviewer.org.</b></div><div class=\"sk-container\" hidden><div class=\"sk-item\"><div class=\"sk-estimator sk-toggleable\"><input class=\"sk-toggleable__control sk-hidden--visually\" id=\"sk-estimator-id-1\" type=\"checkbox\" checked><label for=\"sk-estimator-id-1\" class=\"sk-toggleable__label sk-toggleable__label-arrow\">LinearRegression</label><div class=\"sk-toggleable__content\"><pre>LinearRegression()</pre></div></div></div></div></div>"
            ],
            "text/plain": [
              "LinearRegression()"
            ]
          },
          "execution_count": 26,
          "metadata": {},
          "output_type": "execute_result"
        }
      ],
      "source": [
        "lm.fit(X_train,Y_train)"
      ]
    },
    {
      "cell_type": "code",
      "execution_count": null,
      "metadata": {
        "id": "Di2ATvGylNZC"
      },
      "outputs": [],
      "source": [
        "Y_pred=lm.predict(X_test)"
      ]
    },
    {
      "cell_type": "code",
      "execution_count": null,
      "metadata": {
        "colab": {
          "base_uri": "https://localhost:8080/"
        },
        "id": "1CBYT4y-wUV_",
        "outputId": "0c752f2d-1fbe-4f8a-9389-07564f2cf480"
      },
      "outputs": [
        {
          "name": "stdout",
          "output_type": "stream",
          "text": [
            "Requirement already satisfied: scikit-learn in /usr/local/lib/python3.10/dist-packages (1.2.2)\n",
            "Requirement already satisfied: numpy>=1.17.3 in /usr/local/lib/python3.10/dist-packages (from scikit-learn) (1.25.2)\n",
            "Requirement already satisfied: scipy>=1.3.2 in /usr/local/lib/python3.10/dist-packages (from scikit-learn) (1.11.4)\n",
            "Requirement already satisfied: joblib>=1.1.1 in /usr/local/lib/python3.10/dist-packages (from scikit-learn) (1.4.0)\n",
            "Requirement already satisfied: threadpoolctl>=2.0.0 in /usr/local/lib/python3.10/dist-packages (from scikit-learn) (3.4.0)\n"
          ]
        }
      ],
      "source": [
        "!pip install scikit-learn"
      ]
    },
    {
      "cell_type": "code",
      "execution_count": null,
      "metadata": {
        "colab": {
          "base_uri": "https://localhost:8080/"
        },
        "id": "_SkCWm1-lQWU",
        "outputId": "d8557a4c-7b23-4087-fc02-dafa4992740d"
      },
      "outputs": [
        {
          "name": "stdout",
          "output_type": "stream",
          "text": [
            "Requirement already satisfied: scikit-learn in /usr/local/lib/python3.10/dist-packages (1.2.2)\n",
            "Requirement already satisfied: numpy>=1.17.3 in /usr/local/lib/python3.10/dist-packages (from scikit-learn) (1.25.2)\n",
            "Requirement already satisfied: scipy>=1.3.2 in /usr/local/lib/python3.10/dist-packages (from scikit-learn) (1.11.4)\n",
            "Requirement already satisfied: joblib>=1.1.1 in /usr/local/lib/python3.10/dist-packages (from scikit-learn) (1.4.0)\n",
            "Requirement already satisfied: threadpoolctl>=2.0.0 in /usr/local/lib/python3.10/dist-packages (from scikit-learn) (3.4.0)\n",
            "Mean squared error: 1288.7002955734497\n",
            "Root mean squared error: 35.89847205067995\n",
            "R-squared score: 0.9683792464975952\n"
          ]
        }
      ],
      "source": [
        "# Install the scikit-learn library\n",
        "!pip install scikit-learn\n",
        "\n",
        "# Import the necessary modules\n",
        "from sklearn import metrics\n",
        "import numpy as np\n",
        "\n",
        "# Calculate the mean squared error\n",
        "simp_mse = metrics.mean_squared_error(Y_test, Y_pred)\n",
        "print(\"Mean squared error:\", simp_mse)\n",
        "\n",
        "# Calculate the root mean squared error\n",
        "simp_rmse = np.sqrt(simp_mse)\n",
        "print(\"Root mean squared error:\", simp_rmse)\n",
        "\n",
        "# Calculate the r-squared score\n",
        "simp_rscore = metrics.r2_score(Y_test, Y_pred)\n",
        "print(\"R-squared score:\", simp_rscore)"
      ]
    },
    {
      "cell_type": "code",
      "execution_count": null,
      "metadata": {
        "colab": {
          "base_uri": "https://localhost:8080/"
        },
        "id": "hFNneQX3m2ss",
        "outputId": "6fd82492-1ae7-483b-c049-a4d5f1b7cd32"
      },
      "outputs": [
        {
          "data": {
            "text/plain": [
              "array([0.91489943, 0.90918744, 0.9267212 , 0.91322274, 0.95350443,\n",
              "       0.76993694, 0.9606137 , 0.86164725])"
            ]
          },
          "execution_count": 30,
          "metadata": {},
          "output_type": "execute_result"
        }
      ],
      "source": [
        "#applying k-fold cross validation\n",
        "from sklearn.model_selection import cross_val_score\n",
        "kcv = linear_model.LinearRegression()\n",
        "scores = cross_val_score(kcv, X_train, Y_train, scoring='r2', cv=8)\n",
        "scores"
      ]
    },
    {
      "cell_type": "code",
      "execution_count": null,
      "metadata": {
        "colab": {
          "base_uri": "https://localhost:8080/"
        },
        "id": "M2ULat4vpd-b",
        "outputId": "d4d1ad64-bbe9-4003-b115-10f42381cc68"
      },
      "outputs": [
        {
          "name": "stdout",
          "output_type": "stream",
          "text": [
            "mean squared error: 1287.2768461045564\n",
            "root mean squared error: 35.878640527541684\n",
            "r-square score: 0.9684141735826076\n"
          ]
        }
      ],
      "source": [
        "#Ridge regression\n",
        "import sklearn\n",
        "from sklearn.linear_model import Ridge\n",
        "rid=linear_model.Ridge(alpha=0.1)\n",
        "rid.fit(X_train,Y_train)\n",
        "Y_predict=rid.predict(X_test)\n",
        "rid_mse = sklearn.metrics.mean_squared_error(Y_test, Y_predict)\n",
        "print(\"mean squared error:\",rid_mse)\n",
        "rid_rmse=np.sqrt(rid_mse)\n",
        "print(\"root mean squared error:\",rid_rmse)\n",
        "rid_rscore = sklearn.metrics.r2_score(Y_test,Y_predict)\n",
        "print(\"r-square score:\",rid_rscore)"
      ]
    },
    {
      "cell_type": "code",
      "execution_count": null,
      "metadata": {
        "colab": {
          "base_uri": "https://localhost:8080/"
        },
        "id": "Ea5nTQ7XqLQM",
        "outputId": "6085a114-0181-4e30-f7ac-064eb58fed33"
      },
      "outputs": [
        {
          "data": {
            "text/plain": [
              "0.9684141735826076"
            ]
          },
          "execution_count": 32,
          "metadata": {},
          "output_type": "execute_result"
        }
      ],
      "source": [
        "rid.score(X_test,Y_test)"
      ]
    },
    {
      "cell_type": "code",
      "execution_count": null,
      "metadata": {
        "colab": {
          "base_uri": "https://localhost:8080/"
        },
        "id": "ld3RJ5bEvaE3",
        "outputId": "5e09742d-0402-470b-d1ea-ed06d501b716"
      },
      "outputs": [
        {
          "name": "stdout",
          "output_type": "stream",
          "text": [
            "{'alpha': 0.9}\n",
            "-2081.3731905277386\n"
          ]
        }
      ],
      "source": [
        "#gridsearchcv for finding optimal alpha for ridge regression\n",
        "from sklearn.model_selection import GridSearchCV\n",
        "par={'alpha':[0.1,0.3,0.5,0.7,0.9,0.001,0.003,0.005,0.007,0.009,0.01,0.03,0.05,0.07,0.09]}\n",
        "ridge = Ridge()\n",
        "gr1_mse = GridSearchCV(estimator = ridge,param_grid = par,scoring=\"neg_mean_squared_error\", cv=7)\n",
        "gr1_mse.fit(X,Y)\n",
        "print(gr1_mse.best_params_)\n",
        "print(gr1_mse.best_score_)"
      ]
    },
    {
      "cell_type": "code",
      "execution_count": null,
      "metadata": {
        "colab": {
          "base_uri": "https://localhost:8080/"
        },
        "id": "Hq5QngIAvwpu",
        "outputId": "12649027-adbc-4a34-eb89-ece38ab8c94c"
      },
      "outputs": [
        {
          "name": "stdout",
          "output_type": "stream",
          "text": [
            "mean squared error: 1287.6948158853932\n",
            "root mean squared error: 35.884464826515014\n",
            "r-square score: 0.9684039178858745\n"
          ]
        }
      ],
      "source": [
        "#after updating alpha value\n",
        "from sklearn.linear_model import Ridge\n",
        "rid=linear_model.Ridge(alpha=0.07)\n",
        "rid.fit(X_train,Y_train)\n",
        "Y_predict=rid.predict(X_test)\n",
        "rid_mse = sklearn.metrics.mean_squared_error(Y_test, Y_predict)\n",
        "print(\"mean squared error:\",rid_mse)\n",
        "rid_rmse=np.sqrt(rid_mse)\n",
        "print(\"root mean squared error:\",rid_rmse)\n",
        "rid_rscore = sklearn.metrics.r2_score(Y_test,Y_predict)\n",
        "print(\"r-square score:\",rid_rscore)"
      ]
    },
    {
      "cell_type": "code",
      "execution_count": null,
      "metadata": {
        "colab": {
          "base_uri": "https://localhost:8080/"
        },
        "id": "YLCFrD8EqPch",
        "outputId": "50ad44c6-da29-4cc5-df9c-a86e383e57cb"
      },
      "outputs": [
        {
          "name": "stdout",
          "output_type": "stream",
          "text": [
            "mean squared error: 1287.6948158853932\n",
            "root mean squared error: 35.884464826515014\n",
            "r-square score: 0.9684112507055049\n"
          ]
        }
      ],
      "source": [
        "#lasso regression\n",
        "from sklearn.linear_model import Lasso\n",
        "las=linear_model.Lasso(alpha=0.01)\n",
        "las.fit(X_train,Y_train)\n",
        "Y_predict=rid.predict(X_test)\n",
        "#print(las.coef_)\n",
        "\n",
        "las_mse = sklearn.metrics.mean_squared_error(Y_test, Y_predict)\n",
        "print(\"mean squared error:\",las_mse)\n",
        "las_rmse = np.sqrt(las_mse)\n",
        "print(\"root mean squared error:\",las_rmse)\n",
        "las_rscore = las.score(X_test,Y_test)\n",
        "print(\"r-square score:\",las_rscore)"
      ]
    },
    {
      "cell_type": "code",
      "execution_count": null,
      "metadata": {
        "colab": {
          "base_uri": "https://localhost:8080/"
        },
        "id": "JJL5EpAytLFD",
        "outputId": "86cb00da-7079-4b1d-aaf8-a9d9077318ab"
      },
      "outputs": [
        {
          "name": "stdout",
          "output_type": "stream",
          "text": [
            "{'alpha': 0.9}\n",
            "-1975.6132212564773\n"
          ]
        }
      ],
      "source": [
        "#grid search for lasso regression alpha\n",
        "from sklearn.model_selection import GridSearchCV\n",
        "par={'alpha':[0.1,0.3,0.5,0.7,0.9,0.001,0.003,0.005,0.007,0.009,0.01,0.03,0.05,0.07,0.09]}\n",
        "lasso = Lasso()\n",
        "gr2_mse = GridSearchCV(estimator = lasso,param_grid = par,scoring=\"neg_mean_squared_error\", cv=7)\n",
        "gr2_mse.fit(X,Y)\n",
        "print(gr2_mse.best_params_)\n",
        "print(gr2_mse.best_score_)"
      ]
    },
    {
      "cell_type": "code",
      "execution_count": null,
      "metadata": {
        "colab": {
          "base_uri": "https://localhost:8080/"
        },
        "id": "aeewzN4Lq8XS",
        "outputId": "96b88ea7-3370-4dfe-ebe7-4f56f5830d50"
      },
      "outputs": [
        {
          "name": "stdout",
          "output_type": "stream",
          "text": [
            "mean squared error: 4241.879147216386\n",
            "root mean squared error: 65.12971017298008\n",
            "r-square score: 0.8959172932901098\n"
          ]
        }
      ],
      "source": [
        "#Gradient Descent before gridsearch for learning rate\n",
        "from sklearn.ensemble import GradientBoostingRegressor\n",
        "gb=GradientBoostingRegressor(learning_rate=0.01)\n",
        "gb.fit(X_train,Y_train)\n",
        "Y_predict=gb.predict(X_test)\n",
        "\n",
        "gd_mse = sklearn.metrics.mean_squared_error(Y_test, Y_predict)\n",
        "print(\"mean squared error:\",gd_mse)\n",
        "gd_rmse = np.sqrt(gd_mse)\n",
        "print(\"root mean squared error:\",gd_rmse)\n",
        "\n",
        "gd_rscore = sklearn.metrics.r2_score(Y_test,Y_predict)\n",
        "print(\"r-square score:\",gd_rscore)"
      ]
    },
    {
      "cell_type": "code",
      "execution_count": null,
      "metadata": {
        "colab": {
          "base_uri": "https://localhost:8080/"
        },
        "id": "K1yOJS6nsKD0",
        "outputId": "721e60d3-facc-4fd3-8394-f85bab2fb7b8"
      },
      "outputs": [
        {
          "name": "stdout",
          "output_type": "stream",
          "text": [
            "{'learning_rate': 0.1}\n",
            "-3923.2575163415654\n"
          ]
        }
      ],
      "source": [
        "#grid search for gradient descent learning rate\n",
        "from sklearn.model_selection import GridSearchCV\n",
        "par={'learning_rate':[0.1,0.01,0.05,0.02,0.03,0.04,0.005,0.009]}\n",
        "gr3 = GradientBoostingRegressor()\n",
        "gr3_mse = GridSearchCV(gr3,par,scoring=\"neg_mean_squared_error\", cv=7)\n",
        "gr3_mse.fit(X,Y)\n",
        "print(gr3_mse.best_params_)\n",
        "print(gr3_mse.best_score_)"
      ]
    },
    {
      "cell_type": "code",
      "execution_count": null,
      "metadata": {
        "colab": {
          "base_uri": "https://localhost:8080/"
        },
        "id": "TOYnR6wLs20U",
        "outputId": "464c2662-cc05-4c55-f57a-0a59ef089b70"
      },
      "outputs": [
        {
          "name": "stdout",
          "output_type": "stream",
          "text": [
            "mean squared error: 1711.1811047215629\n",
            "root mean squared error: 41.3664248481974\n",
            "r-square score: 0.9580128629626056\n"
          ]
        }
      ],
      "source": [
        "# gradient descent approach after suitable learning rate\n",
        "from sklearn.ensemble import GradientBoostingRegressor\n",
        "gb=GradientBoostingRegressor(learning_rate=0.03)\n",
        "gb.fit(X_train,Y_train)\n",
        "Y_predict=gb.predict(X_test)\n",
        "\n",
        "gd_mse = sklearn.metrics.mean_squared_error(Y_test, Y_predict)\n",
        "print(\"mean squared error:\",gd_mse)\n",
        "gd_rmse = np.sqrt(gd_mse)\n",
        "print(\"root mean squared error:\",gd_rmse)\n",
        "\n",
        "gd_rscore = sklearn.metrics.r2_score(Y_test,Y_predict)\n",
        "print(\"r-square score:\",gd_rscore)"
      ]
    },
    {
      "cell_type": "code",
      "execution_count": null,
      "metadata": {
        "colab": {
          "base_uri": "https://localhost:8080/"
        },
        "id": "dG0mmQwexZUs",
        "outputId": "7c028a21-770e-470d-bad7-721ad9b30c45"
      },
      "outputs": [
        {
          "name": "stdout",
          "output_type": "stream",
          "text": [
            "                      Model  R2 Score          MSE       RMSE\n",
            "0  Simple Linear Regression  0.968379  1288.700296  35.898472\n",
            "1          Gradient Descent  0.958013  1711.181105  41.366425\n",
            "2          Lasso Regression  0.968411  1287.694816  35.884465\n",
            "3          Ridge Regression  0.968404  1287.694816  35.884465\n"
          ]
        }
      ],
      "source": [
        "table_data = {\n",
        "    'Model': ['Simple Linear Regression', 'Gradient Descent', 'Lasso Regression', 'Ridge Regression'],\n",
        "    'R2 Score': [simp_rscore, gd_rscore, las_rscore,rid_rscore],\n",
        "    'MSE': [simp_mse, gd_mse, las_mse, rid_mse],\n",
        "    'RMSE': [simp_rmse, gd_rmse, las_rmse, rid_rmse]\n",
        "}\n",
        "\n",
        "# Create the DataFrame\n",
        "table_df = pd.DataFrame(table_data)\n",
        "\n",
        "# Display the table\n",
        "print(table_df)"
      ]
    },
    {
      "cell_type": "markdown",
      "metadata": {
        "id": "_D7WrJ1lzNGY"
      },
      "source": [
        "**Conclusion**\n",
        "\n",
        "<hr>\n",
        "Based on the evaluation of various regression models using metrics such as R2 score, Mean Squared Error (MSE), and Root Mean Squared Error (RMSE) on the computer hardware dataset, it can be concluded that the Lasso Regression demonstrates efficiency in predicting the ERP of the computer hardware dataset.\n"
      ]
    }
  ],
  "metadata": {
    "colab": {
      "provenance": []
    },
    "kernelspec": {
      "display_name": "Python 3 (ipykernel)",
      "language": "python",
      "name": "python3"
    },
    "language_info": {
      "codemirror_mode": {
        "name": "ipython",
        "version": 3
      },
      "file_extension": ".py",
      "mimetype": "text/x-python",
      "name": "python",
      "nbconvert_exporter": "python",
      "pygments_lexer": "ipython3",
      "version": "3.10.4"
    }
  },
  "nbformat": 4,
  "nbformat_minor": 0
}
